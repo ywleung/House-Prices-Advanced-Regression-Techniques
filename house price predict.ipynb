{
 "cells": [
  {
   "cell_type": "code",
   "execution_count": 1,
   "metadata": {},
   "outputs": [
    {
     "name": "stderr",
     "output_type": "stream",
     "text": [
      "C:\\Users\\wlyip\\Anaconda3\\lib\\site-packages\\h5py\\__init__.py:36: FutureWarning: Conversion of the second argument of issubdtype from `float` to `np.floating` is deprecated. In future, it will be treated as `np.float64 == np.dtype(float).type`.\n",
      "  from ._conv import register_converters as _register_converters\n",
      "Using TensorFlow backend.\n"
     ]
    }
   ],
   "source": [
    "import numpy as np\n",
    "import pandas as pd\n",
    "import matplotlib.pyplot as plt\n",
    "%matplotlib inline\n",
    "import seaborn as sns\n",
    "\n",
    "from sklearn.preprocessing import MinMaxScaler, LabelEncoder\n",
    "from sklearn.model_selection import train_test_split\n",
    "\n",
    "from keras.layers import Input, Dense, BatchNormalization, Dropout\n",
    "from keras.models import Model\n",
    "from keras.callbacks import ReduceLROnPlateau, EarlyStopping, ModelCheckpoint\n",
    "import keras.backend as K"
   ]
  },
  {
   "cell_type": "code",
   "execution_count": 2,
   "metadata": {},
   "outputs": [
    {
     "name": "stdout",
     "output_type": "stream",
     "text": [
      "Shape of train data: (1460, 80)\n",
      "Shape of test data: (1459, 79)\n"
     ]
    }
   ],
   "source": [
    "train = pd.read_csv('train.csv')\n",
    "train_id = train.pop('Id')\n",
    "# train.drop('Id', axis=1, inplace=True)\n",
    "\n",
    "test = pd.read_csv('test.csv')\n",
    "test_id = test.pop('Id')\n",
    "# test.drop('Id', axis=1, inplace=True)\n",
    "\n",
    "print('Shape of train data: {}'.format(train.shape))\n",
    "print('Shape of test data: {}'.format(test.shape))\n",
    "# print('')\n",
    "# print('List of features:\\n', list(train.columns))"
   ]
  },
  {
   "cell_type": "markdown",
   "metadata": {},
   "source": [
    "## Delete Outliers"
   ]
  },
  {
   "cell_type": "code",
   "execution_count": 3,
   "metadata": {},
   "outputs": [],
   "source": [
    "# delete outliers\n",
    "train = train.drop(train[(train['GrLivArea']>4000) & (train['SalePrice']<300000)].index)"
   ]
  },
  {
   "cell_type": "code",
   "execution_count": 4,
   "metadata": {},
   "outputs": [
    {
     "name": "stdout",
     "output_type": "stream",
     "text": [
      "Shape of all_data: (2917, 79)\n"
     ]
    }
   ],
   "source": [
    "num_train = train.shape[0]\n",
    "num_test = test.shape[0]\n",
    "y_train = train.pop('SalePrice')\n",
    "all_data = pd.concat((train, test)).reset_index(drop=True)\n",
    "\n",
    "print('Shape of all_data: {}'.format(all_data.shape))"
   ]
  },
  {
   "cell_type": "markdown",
   "metadata": {},
   "source": [
    "**Log-transformation to SalePrice**"
   ]
  },
  {
   "cell_type": "code",
   "execution_count": 5,
   "metadata": {},
   "outputs": [],
   "source": [
    "y_train = np.log1p(y_train)"
   ]
  },
  {
   "cell_type": "markdown",
   "metadata": {},
   "source": [
    "## Missing Values "
   ]
  },
  {
   "cell_type": "markdown",
   "metadata": {},
   "source": [
    "- **PoolQC**: NA means \"No Pool\"\n",
    "- **MiscFeature**: NA means \"no misc feature\"\n",
    "- **Alley**: NA means \"no alley access\"\n",
    "- **Fence**: NA means \"no fence\"\n",
    "- **FireplaceQu**: NA means \"no fireplace\""
   ]
  },
  {
   "cell_type": "code",
   "execution_count": 6,
   "metadata": {},
   "outputs": [],
   "source": [
    "all_data['PoolQC'].fillna('None', inplace=True)\n",
    "all_data['MiscFeature'].fillna('None', inplace=True)\n",
    "all_data['Alley'].fillna('None', inplace=True)\n",
    "all_data['Fence'].fillna('None', inplace=True)\n",
    "all_data['FireplaceQu'].fillna('None', inplace=True)"
   ]
  },
  {
   "cell_type": "markdown",
   "metadata": {},
   "source": [
    "- **LotFrontage**: should be similar to median LotFrontage of the neighborhood"
   ]
  },
  {
   "cell_type": "code",
   "execution_count": 7,
   "metadata": {},
   "outputs": [],
   "source": [
    "all_data['LotFrontage'] = all_data.groupby('Neighborhood')['LotFrontage'].transform(\n",
    "    lambda x: x.fillna(x.median()))"
   ]
  },
  {
   "cell_type": "markdown",
   "metadata": {},
   "source": [
    "- **GarageType, GarageFinish, GarageQual, GarageCond**: replace missing values with None"
   ]
  },
  {
   "cell_type": "code",
   "execution_count": 8,
   "metadata": {},
   "outputs": [],
   "source": [
    "all_data['GarageType'].fillna('None', inplace=True)\n",
    "all_data['GarageFinish'].fillna('None', inplace=True)\n",
    "all_data['GarageQual'].fillna('None', inplace=True)\n",
    "all_data['GarageCond'].fillna('None', inplace=True)"
   ]
  },
  {
   "cell_type": "markdown",
   "metadata": {},
   "source": [
    "- **GarageYrBlt, GarageArea, GarageCars**: NA means no car in garage"
   ]
  },
  {
   "cell_type": "code",
   "execution_count": 9,
   "metadata": {},
   "outputs": [],
   "source": [
    "all_data['GarageYrBlt'].fillna(0, inplace=True)\n",
    "all_data['GarageArea'].fillna(0, inplace=True)\n",
    "all_data['GarageCars'].fillna(0, inplace=True)"
   ]
  },
  {
   "cell_type": "markdown",
   "metadata": {},
   "source": [
    "- **BsmtFinSF1, BsmtFinSF2, BsmtUnfSF, TotalBsmtSF, BsmtFullBath, BsmtHalfBath**: NA means no basement"
   ]
  },
  {
   "cell_type": "code",
   "execution_count": 10,
   "metadata": {},
   "outputs": [],
   "source": [
    "all_data['BsmtFinSF1'].fillna(0, inplace=True)\n",
    "all_data['BsmtFinSF2'].fillna(0, inplace=True)\n",
    "all_data['BsmtUnfSF'].fillna(0, inplace=True)\n",
    "all_data['TotalBsmtSF'].fillna(0, inplace=True)\n",
    "all_data['BsmtFullBath'].fillna(0, inplace=True)\n",
    "all_data['BsmtHalfBath'].fillna(0, inplace=True)"
   ]
  },
  {
   "cell_type": "markdown",
   "metadata": {},
   "source": [
    "- **BsmtQual, BsmtCond, BsmtExposure, BsmtFintype1, BsmtFinType2**: NA means no basement"
   ]
  },
  {
   "cell_type": "code",
   "execution_count": 11,
   "metadata": {},
   "outputs": [],
   "source": [
    "all_data['BsmtQual'].fillna('None', inplace=True)\n",
    "all_data['BsmtCond'].fillna('None', inplace=True)\n",
    "all_data['BsmtExposure'].fillna('None', inplace=True)\n",
    "all_data['BsmtFinType1'].fillna('None', inplace=True)\n",
    "all_data['BsmtFinType2'].fillna('None', inplace=True)"
   ]
  },
  {
   "cell_type": "markdown",
   "metadata": {},
   "source": [
    "- **MasVnrArea, MarVnrType**: NA means no masonry veneer"
   ]
  },
  {
   "cell_type": "code",
   "execution_count": 12,
   "metadata": {},
   "outputs": [],
   "source": [
    "all_data['MasVnrType'].fillna(0, inplace=True)\n",
    "all_data['MasVnrArea'].fillna(0, inplace=True)"
   ]
  },
  {
   "cell_type": "markdown",
   "metadata": {},
   "source": [
    "- **MSZoning**: fill with the most common value"
   ]
  },
  {
   "cell_type": "code",
   "execution_count": 13,
   "metadata": {},
   "outputs": [],
   "source": [
    "all_data['MSZoning'].fillna(all_data['MSZoning'].mode()[0], inplace=True)"
   ]
  },
  {
   "cell_type": "markdown",
   "metadata": {},
   "source": [
    "- **Utilities**: almost all values are \"AllPub\", should be dropped"
   ]
  },
  {
   "cell_type": "code",
   "execution_count": 14,
   "metadata": {},
   "outputs": [],
   "source": [
    "all_data.drop(['Utilities'], axis=1, inplace=True)"
   ]
  },
  {
   "cell_type": "markdown",
   "metadata": {},
   "source": [
    "- **Functional**: NA means \"typical\""
   ]
  },
  {
   "cell_type": "code",
   "execution_count": 15,
   "metadata": {},
   "outputs": [],
   "source": [
    "all_data['Functional'].fillna('Functional', inplace=True)"
   ]
  },
  {
   "cell_type": "markdown",
   "metadata": {},
   "source": [
    "- **Electrical**: fill with the most common value"
   ]
  },
  {
   "cell_type": "code",
   "execution_count": 16,
   "metadata": {},
   "outputs": [],
   "source": [
    "all_data['Electrical'].fillna(all_data['Electrical'].mode()[0], inplace=True)"
   ]
  },
  {
   "cell_type": "markdown",
   "metadata": {},
   "source": [
    "- **KitchenQual**: fill with the most common value"
   ]
  },
  {
   "cell_type": "code",
   "execution_count": 17,
   "metadata": {},
   "outputs": [],
   "source": [
    "all_data['KitchenQual'].fillna(all_data['KitchenQual'].mode()[0], inplace=True)"
   ]
  },
  {
   "cell_type": "markdown",
   "metadata": {},
   "source": [
    "- **Exterior1st, Exterior2nd**: fill with the most common value"
   ]
  },
  {
   "cell_type": "code",
   "execution_count": 18,
   "metadata": {},
   "outputs": [],
   "source": [
    "all_data['Exterior1st'].fillna(all_data['Exterior1st'].mode()[0], inplace=True)\n",
    "all_data['Exterior2nd'].fillna(all_data['Exterior2nd'].mode()[0], inplace=True)"
   ]
  },
  {
   "cell_type": "markdown",
   "metadata": {},
   "source": [
    "- **SaleType**: fill with the most common value"
   ]
  },
  {
   "cell_type": "code",
   "execution_count": 19,
   "metadata": {},
   "outputs": [],
   "source": [
    "all_data['SaleType'].fillna(all_data['SaleType'].mode()[0], inplace=True)"
   ]
  },
  {
   "cell_type": "markdown",
   "metadata": {},
   "source": [
    "- **MSSubClass**: NA means \"no building class\""
   ]
  },
  {
   "cell_type": "code",
   "execution_count": 20,
   "metadata": {},
   "outputs": [],
   "source": [
    "all_data['MSSubClass'].fillna('None', inplace=True)"
   ]
  },
  {
   "cell_type": "markdown",
   "metadata": {},
   "source": [
    "**check if any missing value**"
   ]
  },
  {
   "cell_type": "code",
   "execution_count": 21,
   "metadata": {
    "scrolled": true
   },
   "outputs": [
    {
     "data": {
      "text/plain": [
       "Series([], dtype: int64)"
      ]
     },
     "execution_count": 21,
     "metadata": {},
     "output_type": "execute_result"
    }
   ],
   "source": [
    "all_data.isnull().sum()[all_data.isnull().sum()>0]"
   ]
  },
  {
   "cell_type": "markdown",
   "metadata": {},
   "source": [
    "## Convert categorical variable into numerical variable"
   ]
  },
  {
   "cell_type": "code",
   "execution_count": 22,
   "metadata": {},
   "outputs": [
    {
     "data": {
      "text/plain": [
       "Index(['LotFrontage', 'LotArea', 'MasVnrArea', 'BsmtFinSF1', 'BsmtFinSF2',\n",
       "       'BsmtUnfSF', 'TotalBsmtSF', '1stFlrSF', '2ndFlrSF', 'LowQualFinSF',\n",
       "       'GrLivArea', 'BsmtFullBath', 'BsmtHalfBath', 'FullBath', 'HalfBath',\n",
       "       'BedroomAbvGr', 'KitchenAbvGr', 'TotRmsAbvGrd', 'Fireplaces',\n",
       "       'GarageCars', 'GarageArea', 'WoodDeckSF', 'OpenPorchSF',\n",
       "       'EnclosedPorch', '3SsnPorch', 'ScreenPorch', 'PoolArea', 'MiscVal'],\n",
       "      dtype='object')"
      ]
     },
     "execution_count": 22,
     "metadata": {},
     "output_type": "execute_result"
    }
   ],
   "source": [
    "# create a list containing all numerical variables\n",
    "col_num = all_data.select_dtypes(exclude='object').columns\n",
    "col_num = col_num.drop(['MSSubClass', 'OverallQual', 'OverallCond', 'YrSold',\n",
    "                       'MoSold', 'YearBuilt', 'YearRemodAdd', 'GarageYrBlt'])\n",
    "col_num"
   ]
  },
  {
   "cell_type": "code",
   "execution_count": 23,
   "metadata": {},
   "outputs": [],
   "source": [
    "#MSSubClass=The building class\n",
    "all_data['MSSubClass'] = all_data['MSSubClass'].apply(str)\n",
    "\n",
    "# ordinal variables\n",
    "#Changing OverallCond into a categorical variable\n",
    "# all_data['OverallCond'] = all_data['OverallCond'].astype(str)\n",
    "\n",
    "#Year and month sold are transformed into categorical features.\n",
    "all_data['YrSold'] = all_data['YrSold'].astype(str)\n",
    "all_data['MoSold'] = all_data['MoSold'].astype(str)\n",
    "all_data['YearBuilt'] = all_data['YearBuilt'].astype(str)\n",
    "all_data['YearRemodAdd'] = all_data['YearRemodAdd'].astype(str)\n",
    "all_data['GarageYrBlt'] = all_data['GarageYrBlt'].astype(str)"
   ]
  },
  {
   "cell_type": "code",
   "execution_count": 24,
   "metadata": {},
   "outputs": [],
   "source": [
    "# convert ordinal variable into numerical variable\n",
    "\n",
    "# Ex, Gd, TA, Fa, Po, NA\n",
    "cols_ExGd = ['ExterQual', 'ExterCond', 'BsmtQual', 'BsmtCond',\n",
    "            'HeatingQC', 'KitchenQual', 'FireplaceQu', 'GarageQual',\n",
    "            'GarageCond', 'PoolQC']\n",
    "dict_ExGd = {'Ex': 5, 'Gd': 4, 'TA': 3, 'Fa': 2, 'Po': 1, 'None': 0}\n",
    "for col in cols_ExGd:\n",
    "    all_data[col].replace(dict_ExGd, inplace=True)\n",
    "\n",
    "# other ordinal variables\n",
    "all_data['LotShape'].replace({'Reg': 3, 'IR1': 2, 'IR2': 1, 'IR3': 0}, inplace=True)\n",
    "all_data['LandSlope'].replace({'Gtl': 2, 'Mod': 1, 'Sev': 0}, inplace=True)\n",
    "all_data['BsmtExposure'].replace({'Gd': 4, 'Av': 3, 'Mn': 2, 'No': 1, 'NA': 0}, inplace=True)\n",
    "all_data['CentralAir'].replace({'Y': 1, 'N': 0}, inplace=True)\n",
    "all_data['Functional'].replace({'Typ': 7, 'Min1': 6, 'Min2': 5, 'Mod': 4, \n",
    "                                'Maj1': 3, 'Maj2': 2, 'Sev': 1, 'Sal': 0},\n",
    "                              inplace=True)\n",
    "all_data['GarageFinish'].replace({'Fin': 3, 'RFn': 2, 'Unf': 1, 'None': 0}, inplace=True)"
   ]
  },
  {
   "cell_type": "markdown",
   "metadata": {},
   "source": [
    "## Dealing with zeros"
   ]
  },
  {
   "cell_type": "code",
   "execution_count": 25,
   "metadata": {},
   "outputs": [
    {
     "data": {
      "text/html": [
       "<div>\n",
       "<style scoped>\n",
       "    .dataframe tbody tr th:only-of-type {\n",
       "        vertical-align: middle;\n",
       "    }\n",
       "\n",
       "    .dataframe tbody tr th {\n",
       "        vertical-align: top;\n",
       "    }\n",
       "\n",
       "    .dataframe thead th {\n",
       "        text-align: right;\n",
       "    }\n",
       "</style>\n",
       "<table border=\"1\" class=\"dataframe\">\n",
       "  <thead>\n",
       "    <tr style=\"text-align: right;\">\n",
       "      <th></th>\n",
       "      <th>frac_zeros</th>\n",
       "      <th>n_unique</th>\n",
       "      <th>xs_zeros</th>\n",
       "    </tr>\n",
       "  </thead>\n",
       "  <tbody>\n",
       "    <tr>\n",
       "      <th>LowQualFinSF</th>\n",
       "      <td>0.986287</td>\n",
       "      <td>36</td>\n",
       "      <td>0.958510</td>\n",
       "    </tr>\n",
       "    <tr>\n",
       "      <th>3SsnPorch</th>\n",
       "      <td>0.987316</td>\n",
       "      <td>31</td>\n",
       "      <td>0.955058</td>\n",
       "    </tr>\n",
       "    <tr>\n",
       "      <th>MiscVal</th>\n",
       "      <td>0.964690</td>\n",
       "      <td>38</td>\n",
       "      <td>0.938374</td>\n",
       "    </tr>\n",
       "    <tr>\n",
       "      <th>PoolArea</th>\n",
       "      <td>0.995886</td>\n",
       "      <td>13</td>\n",
       "      <td>0.918963</td>\n",
       "    </tr>\n",
       "    <tr>\n",
       "      <th>ScreenPorch</th>\n",
       "      <td>0.912239</td>\n",
       "      <td>121</td>\n",
       "      <td>0.903974</td>\n",
       "    </tr>\n",
       "    <tr>\n",
       "      <th>BsmtFinSF2</th>\n",
       "      <td>0.881042</td>\n",
       "      <td>272</td>\n",
       "      <td>0.877366</td>\n",
       "    </tr>\n",
       "    <tr>\n",
       "      <th>EnclosedPorch</th>\n",
       "      <td>0.842647</td>\n",
       "      <td>183</td>\n",
       "      <td>0.837182</td>\n",
       "    </tr>\n",
       "    <tr>\n",
       "      <th>PoolQC</th>\n",
       "      <td>0.996915</td>\n",
       "      <td>4</td>\n",
       "      <td>0.746915</td>\n",
       "    </tr>\n",
       "    <tr>\n",
       "      <th>BsmtHalfBath</th>\n",
       "      <td>0.940007</td>\n",
       "      <td>3</td>\n",
       "      <td>0.606674</td>\n",
       "    </tr>\n",
       "    <tr>\n",
       "      <th>MasVnrArea</th>\n",
       "      <td>0.603702</td>\n",
       "      <td>442</td>\n",
       "      <td>0.601440</td>\n",
       "    </tr>\n",
       "    <tr>\n",
       "      <th>2ndFlrSF</th>\n",
       "      <td>0.571820</td>\n",
       "      <td>633</td>\n",
       "      <td>0.570241</td>\n",
       "    </tr>\n",
       "    <tr>\n",
       "      <th>WoodDeckSF</th>\n",
       "      <td>0.522112</td>\n",
       "      <td>379</td>\n",
       "      <td>0.519473</td>\n",
       "    </tr>\n",
       "    <tr>\n",
       "      <th>OpenPorchSF</th>\n",
       "      <td>0.444978</td>\n",
       "      <td>250</td>\n",
       "      <td>0.440978</td>\n",
       "    </tr>\n",
       "    <tr>\n",
       "      <th>BsmtFullBath</th>\n",
       "      <td>0.585190</td>\n",
       "      <td>4</td>\n",
       "      <td>0.335190</td>\n",
       "    </tr>\n",
       "    <tr>\n",
       "      <th>FireplaceQu</th>\n",
       "      <td>0.486802</td>\n",
       "      <td>6</td>\n",
       "      <td>0.320135</td>\n",
       "    </tr>\n",
       "    <tr>\n",
       "      <th>BsmtFinSF1</th>\n",
       "      <td>0.318821</td>\n",
       "      <td>989</td>\n",
       "      <td>0.317810</td>\n",
       "    </tr>\n",
       "    <tr>\n",
       "      <th>HalfBath</th>\n",
       "      <td>0.628728</td>\n",
       "      <td>3</td>\n",
       "      <td>0.295395</td>\n",
       "    </tr>\n",
       "    <tr>\n",
       "      <th>Fireplaces</th>\n",
       "      <td>0.486802</td>\n",
       "      <td>5</td>\n",
       "      <td>0.286802</td>\n",
       "    </tr>\n",
       "    <tr>\n",
       "      <th>BsmtUnfSF</th>\n",
       "      <td>0.082962</td>\n",
       "      <td>1135</td>\n",
       "      <td>0.082081</td>\n",
       "    </tr>\n",
       "    <tr>\n",
       "      <th>GarageArea</th>\n",
       "      <td>0.054165</td>\n",
       "      <td>602</td>\n",
       "      <td>0.052504</td>\n",
       "    </tr>\n",
       "    <tr>\n",
       "      <th>TotalBsmtSF</th>\n",
       "      <td>0.027083</td>\n",
       "      <td>1056</td>\n",
       "      <td>0.026136</td>\n",
       "    </tr>\n",
       "  </tbody>\n",
       "</table>\n",
       "</div>"
      ],
      "text/plain": [
       "               frac_zeros  n_unique  xs_zeros\n",
       "LowQualFinSF     0.986287        36  0.958510\n",
       "3SsnPorch        0.987316        31  0.955058\n",
       "MiscVal          0.964690        38  0.938374\n",
       "PoolArea         0.995886        13  0.918963\n",
       "ScreenPorch      0.912239       121  0.903974\n",
       "BsmtFinSF2       0.881042       272  0.877366\n",
       "EnclosedPorch    0.842647       183  0.837182\n",
       "PoolQC           0.996915         4  0.746915\n",
       "BsmtHalfBath     0.940007         3  0.606674\n",
       "MasVnrArea       0.603702       442  0.601440\n",
       "2ndFlrSF         0.571820       633  0.570241\n",
       "WoodDeckSF       0.522112       379  0.519473\n",
       "OpenPorchSF      0.444978       250  0.440978\n",
       "BsmtFullBath     0.585190         4  0.335190\n",
       "FireplaceQu      0.486802         6  0.320135\n",
       "BsmtFinSF1       0.318821       989  0.317810\n",
       "HalfBath         0.628728         3  0.295395\n",
       "Fireplaces       0.486802         5  0.286802\n",
       "BsmtUnfSF        0.082962      1135  0.082081\n",
       "GarageArea       0.054165       602  0.052504\n",
       "TotalBsmtSF      0.027083      1056  0.026136"
      ]
     },
     "metadata": {},
     "output_type": "display_data"
    }
   ],
   "source": [
    "# fraction of zeros in each column\n",
    "frac_zeros = (all_data==0).sum()/len(all_data)\n",
    "# no. unique values in each column\n",
    "n_unique = all_data.nunique()\n",
    "# difference between frac. zeros and expected\n",
    "xs_zeros = frac_zeros - 1/n_unique\n",
    "\n",
    "# create dataframe containing above columns\n",
    "zero_cols = pd.DataFrame({'frac_zeros': frac_zeros, 'n_unique': n_unique,\n",
    "                         'xs_zeros': xs_zeros})\n",
    "zero_cols = zero_cols[zero_cols.frac_zeros>0]\n",
    "zero_cols.sort_values(by='xs_zeros', ascending=False, inplace=True)\n",
    "display(zero_cols[(zero_cols.xs_zeros>0)])"
   ]
  },
  {
   "cell_type": "code",
   "execution_count": 26,
   "metadata": {},
   "outputs": [],
   "source": [
    "# create binary variables for Pool and 3SsnPorch\n",
    "all_data['HasPool'] = (all_data['PoolQC']>0).astype(int)\n",
    "all_data['Has3SsnPorch'] = (all_data['3SsnPorch']>0).astype(int)\n",
    "all_data.drop(['PoolQC', 'PoolArea', '3SsnPorch'], axis=1, inplace=True)\n",
    "\n",
    "# combine HalfBath to FullBath\n",
    "all_data['BsmtFullBath'] = all_data['BsmtFullBath'] + 0.5*all_data['BsmtHalfBath']\n",
    "all_data['FullBath'] = all_data['FullBath'] + 0.5*all_data['HalfBath']\n",
    "all_data.drop(['BsmtHalfBath', 'HalfBath'], axis=1, inplace=True)"
   ]
  },
  {
   "cell_type": "code",
   "execution_count": 27,
   "metadata": {},
   "outputs": [],
   "source": [
    "# # create additional dummy variable for continuous variable\n",
    "# dummy_cols = ['LowQualFinSF', 'MiscVal', '2ndFlrSF', 'ScreenPorch', 'WoodDeckSF',\n",
    "#              'OpenPorchSF', 'EnclosedPorch', 'MasVnrArea', 'GarageArea', 'Fireplaces',\n",
    "#              'BsmtFinSF2', 'BsmtFinSF1', 'BsmtUnfSF', 'TotalBsmtSF']\n",
    "# for col in dummy_cols:\n",
    "#     all_data['Has'+col] = (all_data[col]>0).astype(int)"
   ]
  },
  {
   "cell_type": "code",
   "execution_count": 28,
   "metadata": {},
   "outputs": [],
   "source": [
    "def minmax_scale(col):\n",
    "    return (col-col.min())/(col.max()-col.min())"
   ]
  },
  {
   "cell_type": "code",
   "execution_count": 29,
   "metadata": {},
   "outputs": [],
   "source": [
    "col_num = col_num.drop(['PoolArea', '3SsnPorch', 'BsmtHalfBath', 'HalfBath'])\n",
    "\n",
    "for col in col_num:\n",
    "    all_data[col] = minmax_scale(all_data[col])"
   ]
  },
  {
   "cell_type": "markdown",
   "metadata": {},
   "source": [
    "**Getting dummy variables**"
   ]
  },
  {
   "cell_type": "code",
   "execution_count": 30,
   "metadata": {},
   "outputs": [
    {
     "name": "stdout",
     "output_type": "stream",
     "text": [
      "shape of all_data: (2917, 75)\n"
     ]
    },
    {
     "data": {
      "text/plain": [
       "Index(['MSSubClass', 'MSZoning', 'Street', 'Alley', 'LandContour', 'LotConfig',\n",
       "       'Neighborhood', 'Condition1', 'Condition2', 'BldgType', 'HouseStyle',\n",
       "       'YearBuilt', 'YearRemodAdd', 'RoofStyle', 'RoofMatl', 'Exterior1st',\n",
       "       'Exterior2nd', 'MasVnrType', 'Foundation', 'BsmtExposure',\n",
       "       'BsmtFinType1', 'BsmtFinType2', 'Heating', 'Electrical', 'Functional',\n",
       "       'GarageType', 'GarageYrBlt', 'PavedDrive', 'Fence', 'MiscFeature',\n",
       "       'MoSold', 'YrSold', 'SaleType', 'SaleCondition'],\n",
       "      dtype='object')"
      ]
     },
     "metadata": {},
     "output_type": "display_data"
    }
   ],
   "source": [
    "print('shape of all_data: {}'.format(all_data.shape))\n",
    "display(all_data.select_dtypes(include='object').columns)"
   ]
  },
  {
   "cell_type": "code",
   "execution_count": 31,
   "metadata": {},
   "outputs": [
    {
     "name": "stdout",
     "output_type": "stream",
     "text": [
      "(2917, 559)\n"
     ]
    }
   ],
   "source": [
    "all_data = pd.get_dummies(all_data)\n",
    "print(all_data.shape)"
   ]
  },
  {
   "cell_type": "markdown",
   "metadata": {},
   "source": [
    "## Split train and test set"
   ]
  },
  {
   "cell_type": "code",
   "execution_count": 32,
   "metadata": {},
   "outputs": [],
   "source": [
    "X_train = all_data[:num_train]\n",
    "X_test = all_data[num_train:]"
   ]
  },
  {
   "cell_type": "code",
   "execution_count": 33,
   "metadata": {},
   "outputs": [],
   "source": [
    "X_train, X_val, y_train, y_val = train_test_split(X_train, y_train, test_size=0.2)"
   ]
  },
  {
   "cell_type": "code",
   "execution_count": 34,
   "metadata": {},
   "outputs": [
    {
     "data": {
      "text/plain": [
       "Series([], dtype: int64)"
      ]
     },
     "execution_count": 34,
     "metadata": {},
     "output_type": "execute_result"
    }
   ],
   "source": [
    "all_data.isnull().sum()[all_data.isnull().sum()>0]"
   ]
  },
  {
   "cell_type": "markdown",
   "metadata": {},
   "source": [
    "## Random Forest"
   ]
  },
  {
   "cell_type": "code",
   "execution_count": 35,
   "metadata": {},
   "outputs": [],
   "source": [
    "from sklearn.ensemble import RandomForestRegressor\n",
    "from sklearn.metrics import mean_absolute_error\n",
    "from sklearn.model_selection import GridSearchCV, cross_val_score, StratifiedKFold"
   ]
  },
  {
   "cell_type": "code",
   "execution_count": 36,
   "metadata": {},
   "outputs": [
    {
     "name": "stderr",
     "output_type": "stream",
     "text": [
      "C:\\Users\\wlyip\\Anaconda3\\lib\\site-packages\\sklearn\\ensemble\\forest.py:246: FutureWarning: The default value of n_estimators will change from 10 in version 0.20 to 100 in 0.22.\n",
      "  \"10 in version 0.20 to 100 in 0.22.\", FutureWarning)\n"
     ]
    },
    {
     "data": {
      "text/plain": [
       "RandomForestRegressor(bootstrap=True, criterion='mse', max_depth=None,\n",
       "           max_features='auto', max_leaf_nodes=None,\n",
       "           min_impurity_decrease=0.0, min_impurity_split=None,\n",
       "           min_samples_leaf=1, min_samples_split=2,\n",
       "           min_weight_fraction_leaf=0.0, n_estimators=10, n_jobs=None,\n",
       "           oob_score=False, random_state=None, verbose=0, warm_start=False)"
      ]
     },
     "execution_count": 36,
     "metadata": {},
     "output_type": "execute_result"
    }
   ],
   "source": [
    "model = RandomForestRegressor()\n",
    "model.fit(X_train, y_train)"
   ]
  },
  {
   "cell_type": "code",
   "execution_count": 37,
   "metadata": {},
   "outputs": [
    {
     "name": "stdout",
     "output_type": "stream",
     "text": [
      "Validation MAE: 0.11310306747788852\n"
     ]
    }
   ],
   "source": [
    "prediction = model.predict(X_val)\n",
    "MAE = mean_absolute_error(y_val, prediction)\n",
    "print('Validation MAE:', MAE)"
   ]
  },
  {
   "cell_type": "code",
   "execution_count": 38,
   "metadata": {},
   "outputs": [],
   "source": [
    "kfold = StratifiedKFold(n_splits = 10)"
   ]
  },
  {
   "cell_type": "code",
   "execution_count": 40,
   "metadata": {},
   "outputs": [
    {
     "name": "stderr",
     "output_type": "stream",
     "text": [
      "C:\\Users\\wlyip\\Anaconda3\\lib\\site-packages\\sklearn\\model_selection\\_split.py:2053: FutureWarning: You should specify a value for 'cv' instead of relying on the default value. The default value will change from 3 to 5 in version 0.22.\n",
      "  warnings.warn(CV_WARNING, FutureWarning)\n",
      "[Parallel(n_jobs=1)]: Using backend SequentialBackend with 1 concurrent workers.\n"
     ]
    },
    {
     "name": "stdout",
     "output_type": "stream",
     "text": [
      "Fitting 3 folds for each of 60 candidates, totalling 180 fits\n"
     ]
    },
    {
     "name": "stderr",
     "output_type": "stream",
     "text": [
      "[Parallel(n_jobs=1)]: Done 180 out of 180 | elapsed:  4.0min finished\n"
     ]
    },
    {
     "data": {
      "text/plain": [
       "-0.019018710981992534"
      ]
     },
     "execution_count": 40,
     "metadata": {},
     "output_type": "execute_result"
    }
   ],
   "source": [
    "model = RandomForestRegressor()\n",
    "rf_param_grid = {\"max_features\": [0.2, 0.4, 0.6, 0.8, 1],\n",
    "              \"min_samples_split\": [2, 4, 6, 8],\n",
    "              \"n_estimators\" :[100, 150, 200]}\n",
    "\n",
    "gsRFR = GridSearchCV(model, param_grid = rf_param_grid,\n",
    "                     scoring = 'neg_mean_squared_error', verbose = 1)\n",
    "\n",
    "gsRFR.fit(X_train, y_train)\n",
    "\n",
    "RFR_best = gsRFR.best_estimator_\n",
    "\n",
    "gsRFR.best_score_"
   ]
  },
  {
   "cell_type": "code",
   "execution_count": 41,
   "metadata": {},
   "outputs": [
    {
     "name": "stdout",
     "output_type": "stream",
     "text": [
      "Validation MAE: 0.09904609589968204\n"
     ]
    }
   ],
   "source": [
    "prediction = RFR_best.predict(X_val)\n",
    "MAE = mean_absolute_error(y_val, prediction)\n",
    "print('Validation MAE:', MAE)"
   ]
  },
  {
   "cell_type": "code",
   "execution_count": 121,
   "metadata": {},
   "outputs": [],
   "source": [
    "prediction = RFR_best.predict(X_test)\n",
    "prediction = np.expm1(prediction)\n",
    "submission = pd.DataFrame()\n",
    "submission['Id'] = test_id\n",
    "submission['SalePrice'] = prediction\n",
    "submission.to_csv('randomforest_best.csv', index=False)"
   ]
  },
  {
   "cell_type": "markdown",
   "metadata": {},
   "source": [
    "## Linear Regression"
   ]
  },
  {
   "cell_type": "code",
   "execution_count": 42,
   "metadata": {},
   "outputs": [],
   "source": [
    "from sklearn.linear_model import Ridge"
   ]
  },
  {
   "cell_type": "code",
   "execution_count": 43,
   "metadata": {},
   "outputs": [
    {
     "data": {
      "text/plain": [
       "Ridge(alpha=1.0, copy_X=True, fit_intercept=True, max_iter=None,\n",
       "   normalize=False, random_state=None, solver='auto', tol=0.001)"
      ]
     },
     "execution_count": 43,
     "metadata": {},
     "output_type": "execute_result"
    }
   ],
   "source": [
    "model = Ridge()\n",
    "model.fit(X_train, y_train)"
   ]
  },
  {
   "cell_type": "code",
   "execution_count": 44,
   "metadata": {},
   "outputs": [
    {
     "name": "stdout",
     "output_type": "stream",
     "text": [
      "Validation MAE: 0.09768715562426745\n"
     ]
    }
   ],
   "source": [
    "prediction = model.predict(X_val)\n",
    "MAE = mean_absolute_error(y_val, prediction)\n",
    "print('Validation MAE:', MAE)"
   ]
  },
  {
   "cell_type": "code",
   "execution_count": 45,
   "metadata": {},
   "outputs": [
    {
     "name": "stderr",
     "output_type": "stream",
     "text": [
      "C:\\Users\\wlyip\\Anaconda3\\lib\\site-packages\\sklearn\\model_selection\\_split.py:2053: FutureWarning: You should specify a value for 'cv' instead of relying on the default value. The default value will change from 3 to 5 in version 0.22.\n",
      "  warnings.warn(CV_WARNING, FutureWarning)\n",
      "[Parallel(n_jobs=1)]: Using backend SequentialBackend with 1 concurrent workers.\n"
     ]
    },
    {
     "name": "stdout",
     "output_type": "stream",
     "text": [
      "Fitting 3 folds for each of 56 candidates, totalling 168 fits\n"
     ]
    },
    {
     "name": "stderr",
     "output_type": "stream",
     "text": [
      "C:\\Users\\wlyip\\Anaconda3\\lib\\site-packages\\sklearn\\linear_model\\sag.py:334: ConvergenceWarning: The max_iter was reached which means the coef_ did not converge\n",
      "  \"the coef_ did not converge\", ConvergenceWarning)\n",
      "C:\\Users\\wlyip\\Anaconda3\\lib\\site-packages\\sklearn\\linear_model\\sag.py:334: ConvergenceWarning: The max_iter was reached which means the coef_ did not converge\n",
      "  \"the coef_ did not converge\", ConvergenceWarning)\n",
      "C:\\Users\\wlyip\\Anaconda3\\lib\\site-packages\\sklearn\\linear_model\\sag.py:334: ConvergenceWarning: The max_iter was reached which means the coef_ did not converge\n",
      "  \"the coef_ did not converge\", ConvergenceWarning)\n",
      "C:\\Users\\wlyip\\Anaconda3\\lib\\site-packages\\sklearn\\linear_model\\sag.py:334: ConvergenceWarning: The max_iter was reached which means the coef_ did not converge\n",
      "  \"the coef_ did not converge\", ConvergenceWarning)\n",
      "C:\\Users\\wlyip\\Anaconda3\\lib\\site-packages\\sklearn\\linear_model\\sag.py:334: ConvergenceWarning: The max_iter was reached which means the coef_ did not converge\n",
      "  \"the coef_ did not converge\", ConvergenceWarning)\n",
      "C:\\Users\\wlyip\\Anaconda3\\lib\\site-packages\\sklearn\\linear_model\\sag.py:334: ConvergenceWarning: The max_iter was reached which means the coef_ did not converge\n",
      "  \"the coef_ did not converge\", ConvergenceWarning)\n",
      "C:\\Users\\wlyip\\Anaconda3\\lib\\site-packages\\sklearn\\linear_model\\sag.py:334: ConvergenceWarning: The max_iter was reached which means the coef_ did not converge\n",
      "  \"the coef_ did not converge\", ConvergenceWarning)\n",
      "C:\\Users\\wlyip\\Anaconda3\\lib\\site-packages\\sklearn\\linear_model\\sag.py:334: ConvergenceWarning: The max_iter was reached which means the coef_ did not converge\n",
      "  \"the coef_ did not converge\", ConvergenceWarning)\n",
      "C:\\Users\\wlyip\\Anaconda3\\lib\\site-packages\\sklearn\\linear_model\\sag.py:334: ConvergenceWarning: The max_iter was reached which means the coef_ did not converge\n",
      "  \"the coef_ did not converge\", ConvergenceWarning)\n",
      "C:\\Users\\wlyip\\Anaconda3\\lib\\site-packages\\sklearn\\linear_model\\sag.py:334: ConvergenceWarning: The max_iter was reached which means the coef_ did not converge\n",
      "  \"the coef_ did not converge\", ConvergenceWarning)\n",
      "C:\\Users\\wlyip\\Anaconda3\\lib\\site-packages\\sklearn\\linear_model\\sag.py:334: ConvergenceWarning: The max_iter was reached which means the coef_ did not converge\n",
      "  \"the coef_ did not converge\", ConvergenceWarning)\n",
      "C:\\Users\\wlyip\\Anaconda3\\lib\\site-packages\\sklearn\\linear_model\\sag.py:334: ConvergenceWarning: The max_iter was reached which means the coef_ did not converge\n",
      "  \"the coef_ did not converge\", ConvergenceWarning)\n",
      "[Parallel(n_jobs=1)]: Done 168 out of 168 | elapsed:   42.9s finished\n",
      "C:\\Users\\wlyip\\Anaconda3\\lib\\site-packages\\sklearn\\linear_model\\sag.py:334: ConvergenceWarning: The max_iter was reached which means the coef_ did not converge\n",
      "  \"the coef_ did not converge\", ConvergenceWarning)\n"
     ]
    },
    {
     "data": {
      "text/plain": [
       "-0.016273427053969145"
      ]
     },
     "execution_count": 45,
     "metadata": {},
     "output_type": "execute_result"
    }
   ],
   "source": [
    "model = Ridge()\n",
    "ridge_param_grid = {\"fit_intercept\": [True, False],\n",
    "              \"normalize\": [False],\n",
    "              \"copy_X\": [True],\n",
    "              \"max_iter\": [100, 300, 500, 1000],\n",
    "              \"solver\": ['auto', 'svd', 'cholesky', 'lsqr', 'sparse_cg',\n",
    "                        'sag', 'saga']}\n",
    "\n",
    "gsRidge = GridSearchCV(model, param_grid = ridge_param_grid, \n",
    "                     scoring = 'neg_mean_squared_error', verbose = 1)\n",
    "\n",
    "gsRidge.fit(X_train, y_train)\n",
    "\n",
    "Ridge_best = gsRidge.best_estimator_\n",
    "\n",
    "gsRidge.best_score_"
   ]
  },
  {
   "cell_type": "code",
   "execution_count": 46,
   "metadata": {},
   "outputs": [
    {
     "name": "stdout",
     "output_type": "stream",
     "text": [
      "Validation MAE: 0.09438791403782963\n"
     ]
    }
   ],
   "source": [
    "prediction = Ridge_best.predict(X_val)\n",
    "MAE = mean_absolute_error(y_val, prediction)\n",
    "print('Validation MAE:', MAE)"
   ]
  },
  {
   "cell_type": "code",
   "execution_count": 89,
   "metadata": {},
   "outputs": [],
   "source": [
    "prediction = Ridge_best.predict(X_test)\n",
    "prediction = np.expm1(prediction)\n",
    "submission = pd.DataFrame()\n",
    "submission['Id'] = test_id\n",
    "submission['SalePrice'] = prediction\n",
    "submission.to_csv('ridge_best.csv', index=False)"
   ]
  },
  {
   "cell_type": "markdown",
   "metadata": {},
   "source": [
    "**Lasso**"
   ]
  },
  {
   "cell_type": "code",
   "execution_count": 47,
   "metadata": {},
   "outputs": [],
   "source": [
    "from sklearn.linear_model import Lasso"
   ]
  },
  {
   "cell_type": "code",
   "execution_count": 48,
   "metadata": {},
   "outputs": [
    {
     "data": {
      "text/plain": [
       "Lasso(alpha=1.0, copy_X=True, fit_intercept=True, max_iter=1000,\n",
       "   normalize=False, positive=False, precompute=False, random_state=None,\n",
       "   selection='cyclic', tol=0.0001, warm_start=False)"
      ]
     },
     "execution_count": 48,
     "metadata": {},
     "output_type": "execute_result"
    }
   ],
   "source": [
    "model = Lasso()\n",
    "model.fit(X_train, y_train)"
   ]
  },
  {
   "cell_type": "code",
   "execution_count": 49,
   "metadata": {},
   "outputs": [
    {
     "name": "stdout",
     "output_type": "stream",
     "text": [
      "Validation MAE: 0.3147234720540678\n"
     ]
    }
   ],
   "source": [
    "prediction = model.predict(X_val)\n",
    "MAE = mean_absolute_error(y_val, prediction)\n",
    "print('Validation MAE:', MAE)"
   ]
  },
  {
   "cell_type": "code",
   "execution_count": 50,
   "metadata": {},
   "outputs": [
    {
     "name": "stderr",
     "output_type": "stream",
     "text": [
      "C:\\Users\\wlyip\\Anaconda3\\lib\\site-packages\\sklearn\\model_selection\\_split.py:2053: FutureWarning: You should specify a value for 'cv' instead of relying on the default value. The default value will change from 3 to 5 in version 0.22.\n",
      "  warnings.warn(CV_WARNING, FutureWarning)\n",
      "[Parallel(n_jobs=1)]: Using backend SequentialBackend with 1 concurrent workers.\n"
     ]
    },
    {
     "name": "stdout",
     "output_type": "stream",
     "text": [
      "Fitting 3 folds for each of 23 candidates, totalling 69 fits\n"
     ]
    },
    {
     "name": "stderr",
     "output_type": "stream",
     "text": [
      "[Parallel(n_jobs=1)]: Done  69 out of  69 | elapsed:    7.8s finished\n"
     ]
    },
    {
     "data": {
      "text/plain": [
       "-0.013645045068906599"
      ]
     },
     "execution_count": 50,
     "metadata": {},
     "output_type": "execute_result"
    }
   ],
   "source": [
    "model = Lasso()\n",
    "alpha_range = np.arange(1e-4, 1e-3, 4e-5)\n",
    "lasso_param_grid = {'alpha': alpha_range}\n",
    "\n",
    "gsLasso = GridSearchCV(model, param_grid = lasso_param_grid, \n",
    "                     scoring = 'neg_mean_squared_error', verbose = 1)\n",
    "\n",
    "gsLasso.fit(X_train, y_train)\n",
    "\n",
    "Lasso_best = gsLasso.best_estimator_\n",
    "\n",
    "gsLasso.best_score_"
   ]
  },
  {
   "cell_type": "code",
   "execution_count": 51,
   "metadata": {},
   "outputs": [
    {
     "name": "stdout",
     "output_type": "stream",
     "text": [
      "Validation MAE: 0.0881820905382536\n"
     ]
    }
   ],
   "source": [
    "prediction = Lasso_best.predict(X_val)\n",
    "MAE = mean_absolute_error(y_val, prediction)\n",
    "print('Validation MAE:', MAE)"
   ]
  },
  {
   "cell_type": "code",
   "execution_count": 103,
   "metadata": {},
   "outputs": [],
   "source": [
    "prediction = Lasso_best.predict(X_test)\n",
    "prediction = np.expm1(prediction)\n",
    "submission = pd.DataFrame()\n",
    "submission['Id'] = test_id\n",
    "submission['SalePrice'] = prediction\n",
    "submission.to_csv('lasso_best.csv', index=False)"
   ]
  },
  {
   "cell_type": "markdown",
   "metadata": {},
   "source": [
    "**ElasticNet**"
   ]
  },
  {
   "cell_type": "code",
   "execution_count": 52,
   "metadata": {},
   "outputs": [],
   "source": [
    "from sklearn.linear_model import ElasticNet"
   ]
  },
  {
   "cell_type": "code",
   "execution_count": 53,
   "metadata": {},
   "outputs": [
    {
     "data": {
      "text/plain": [
       "ElasticNet(alpha=1.0, copy_X=True, fit_intercept=True, l1_ratio=0.5,\n",
       "      max_iter=1000, normalize=False, positive=False, precompute=False,\n",
       "      random_state=None, selection='cyclic', tol=0.0001, warm_start=False)"
      ]
     },
     "execution_count": 53,
     "metadata": {},
     "output_type": "execute_result"
    }
   ],
   "source": [
    "model = ElasticNet()\n",
    "model.fit(X_train, y_train)"
   ]
  },
  {
   "cell_type": "code",
   "execution_count": 54,
   "metadata": {},
   "outputs": [
    {
     "name": "stdout",
     "output_type": "stream",
     "text": [
      "Validation MAE: 0.3147234720540678\n"
     ]
    }
   ],
   "source": [
    "prediction = model.predict(X_val)\n",
    "MAE = mean_absolute_error(y_val, prediction)\n",
    "print('Validation MAE:', MAE)"
   ]
  },
  {
   "cell_type": "code",
   "execution_count": 55,
   "metadata": {},
   "outputs": [
    {
     "name": "stderr",
     "output_type": "stream",
     "text": [
      "C:\\Users\\wlyip\\Anaconda3\\lib\\site-packages\\sklearn\\model_selection\\_split.py:2053: FutureWarning: You should specify a value for 'cv' instead of relying on the default value. The default value will change from 3 to 5 in version 0.22.\n",
      "  warnings.warn(CV_WARNING, FutureWarning)\n",
      "[Parallel(n_jobs=1)]: Using backend SequentialBackend with 1 concurrent workers.\n"
     ]
    },
    {
     "name": "stdout",
     "output_type": "stream",
     "text": [
      "Fitting 3 folds for each of 81 candidates, totalling 243 fits\n"
     ]
    },
    {
     "name": "stderr",
     "output_type": "stream",
     "text": [
      "[Parallel(n_jobs=1)]: Done 243 out of 243 | elapsed:  1.1min finished\n"
     ]
    },
    {
     "data": {
      "text/plain": [
       "-0.013645806885684685"
      ]
     },
     "execution_count": 55,
     "metadata": {},
     "output_type": "execute_result"
    }
   ],
   "source": [
    "model = ElasticNet()\n",
    "\n",
    "elastic_param_grid = {'alpha': np.arange(1e-4, 1e-3, 1e-4),\n",
    "                   'l1_ratio': np.arange(0.1, 1.0, 0.1),\n",
    "                   'max_iter': [100000]}\n",
    "\n",
    "gsElastic = GridSearchCV(model, param_grid = elastic_param_grid, \n",
    "                     scoring = 'neg_mean_squared_error', verbose = 1)\n",
    "\n",
    "gsElastic.fit(X_train, y_train)\n",
    "\n",
    "Elastic_best = gsElastic.best_estimator_\n",
    "\n",
    "gsElastic.best_score_"
   ]
  },
  {
   "cell_type": "code",
   "execution_count": 56,
   "metadata": {},
   "outputs": [
    {
     "name": "stdout",
     "output_type": "stream",
     "text": [
      "Validation MAE: 0.08829295735229059\n"
     ]
    }
   ],
   "source": [
    "prediction = Elastic_best.predict(X_val)\n",
    "MAE = mean_absolute_error(y_val, prediction)\n",
    "print('Validation MAE:', MAE)"
   ]
  },
  {
   "cell_type": "code",
   "execution_count": 106,
   "metadata": {},
   "outputs": [],
   "source": [
    "prediction = Elastic_best.predict(X_test)\n",
    "prediction = np.expm1(prediction)\n",
    "submission = pd.DataFrame()\n",
    "submission['Id'] = test_id\n",
    "submission['SalePrice'] = prediction\n",
    "submission.to_csv('elastic_best.csv', index=False)"
   ]
  },
  {
   "cell_type": "markdown",
   "metadata": {},
   "source": [
    "## SVM"
   ]
  },
  {
   "cell_type": "markdown",
   "metadata": {},
   "source": [
    "**Linear**"
   ]
  },
  {
   "cell_type": "code",
   "execution_count": 57,
   "metadata": {},
   "outputs": [],
   "source": [
    "from sklearn.svm import LinearSVR"
   ]
  },
  {
   "cell_type": "code",
   "execution_count": 58,
   "metadata": {},
   "outputs": [
    {
     "name": "stderr",
     "output_type": "stream",
     "text": [
      "C:\\Users\\wlyip\\Anaconda3\\lib\\site-packages\\sklearn\\svm\\base.py:922: ConvergenceWarning: Liblinear failed to converge, increase the number of iterations.\n",
      "  \"the number of iterations.\", ConvergenceWarning)\n"
     ]
    },
    {
     "data": {
      "text/plain": [
       "LinearSVR(C=1.0, dual=True, epsilon=0.0, fit_intercept=True,\n",
       "     intercept_scaling=1.0, loss='epsilon_insensitive', max_iter=1000,\n",
       "     random_state=None, tol=0.0001, verbose=0)"
      ]
     },
     "execution_count": 58,
     "metadata": {},
     "output_type": "execute_result"
    }
   ],
   "source": [
    "model = LinearSVR()\n",
    "model.fit(X_train, y_train)"
   ]
  },
  {
   "cell_type": "code",
   "execution_count": 59,
   "metadata": {},
   "outputs": [
    {
     "name": "stdout",
     "output_type": "stream",
     "text": [
      "Validation MAE: 0.14795620857724562\n"
     ]
    }
   ],
   "source": [
    "prediction = model.predict(X_val)\n",
    "MAE = mean_absolute_error(y_val, prediction)\n",
    "print('Validation MAE:', MAE)"
   ]
  },
  {
   "cell_type": "code",
   "execution_count": 60,
   "metadata": {},
   "outputs": [
    {
     "name": "stderr",
     "output_type": "stream",
     "text": [
      "C:\\Users\\wlyip\\Anaconda3\\lib\\site-packages\\sklearn\\model_selection\\_split.py:2053: FutureWarning: You should specify a value for 'cv' instead of relying on the default value. The default value will change from 3 to 5 in version 0.22.\n",
      "  warnings.warn(CV_WARNING, FutureWarning)\n",
      "[Parallel(n_jobs=1)]: Using backend SequentialBackend with 1 concurrent workers.\n"
     ]
    },
    {
     "name": "stdout",
     "output_type": "stream",
     "text": [
      "Fitting 3 folds for each of 9 candidates, totalling 27 fits\n"
     ]
    },
    {
     "name": "stderr",
     "output_type": "stream",
     "text": [
      "C:\\Users\\wlyip\\Anaconda3\\lib\\site-packages\\sklearn\\svm\\base.py:922: ConvergenceWarning: Liblinear failed to converge, increase the number of iterations.\n",
      "  \"the number of iterations.\", ConvergenceWarning)\n",
      "[Parallel(n_jobs=1)]: Done  27 out of  27 | elapsed:  2.4min finished\n"
     ]
    },
    {
     "data": {
      "text/plain": [
       "-0.025992567378039982"
      ]
     },
     "execution_count": 60,
     "metadata": {},
     "output_type": "execute_result"
    }
   ],
   "source": [
    "model = LinearSVR()\n",
    "\n",
    "linearSVR_param_grid = {'C': np.arange(0.1, 1.0, 0.1),\n",
    "                   'max_iter': [100000]}\n",
    "\n",
    "gslinearSVR = GridSearchCV(model, param_grid = linearSVR_param_grid, \n",
    "                     scoring = 'neg_mean_squared_error', verbose = 1)\n",
    "\n",
    "gslinearSVR.fit(X_train, y_train)\n",
    "\n",
    "LinearSVR_best = gslinearSVR.best_estimator_\n",
    "\n",
    "gslinearSVR.best_score_"
   ]
  },
  {
   "cell_type": "code",
   "execution_count": 61,
   "metadata": {},
   "outputs": [
    {
     "name": "stdout",
     "output_type": "stream",
     "text": [
      "Validation MAE: 0.10607930905762229\n"
     ]
    }
   ],
   "source": [
    "prediction = LinearSVR_best.predict(X_val)\n",
    "MAE = mean_absolute_error(y_val, prediction)\n",
    "print('Validation MAE:', MAE)"
   ]
  },
  {
   "cell_type": "code",
   "execution_count": 112,
   "metadata": {},
   "outputs": [],
   "source": [
    "prediction = LinearSVR_best.predict(X_test)\n",
    "prediction = np.expm1(prediction)\n",
    "submission = pd.DataFrame()\n",
    "submission['Id'] = test_id\n",
    "submission['SalePrice'] = prediction\n",
    "submission.to_csv('linearSVR_best.csv', index=False)"
   ]
  },
  {
   "cell_type": "markdown",
   "metadata": {},
   "source": [
    "**Non-Linear**"
   ]
  },
  {
   "cell_type": "code",
   "execution_count": 62,
   "metadata": {},
   "outputs": [],
   "source": [
    "from sklearn.svm import SVR"
   ]
  },
  {
   "cell_type": "code",
   "execution_count": 63,
   "metadata": {},
   "outputs": [
    {
     "name": "stderr",
     "output_type": "stream",
     "text": [
      "C:\\Users\\wlyip\\Anaconda3\\lib\\site-packages\\sklearn\\svm\\base.py:196: FutureWarning: The default value of gamma will change from 'auto' to 'scale' in version 0.22 to account better for unscaled features. Set gamma explicitly to 'auto' or 'scale' to avoid this warning.\n",
      "  \"avoid this warning.\", FutureWarning)\n"
     ]
    },
    {
     "data": {
      "text/plain": [
       "SVR(C=1.0, cache_size=200, coef0=0.0, degree=3, epsilon=0.1,\n",
       "  gamma='auto_deprecated', kernel='rbf', max_iter=-1, shrinking=True,\n",
       "  tol=0.001, verbose=False)"
      ]
     },
     "execution_count": 63,
     "metadata": {},
     "output_type": "execute_result"
    }
   ],
   "source": [
    "model = SVR()\n",
    "model.fit(X_train, y_train)"
   ]
  },
  {
   "cell_type": "code",
   "execution_count": 64,
   "metadata": {},
   "outputs": [
    {
     "name": "stdout",
     "output_type": "stream",
     "text": [
      "Validation MAE: 0.11808268663667205\n"
     ]
    }
   ],
   "source": [
    "prediction = model.predict(X_val)\n",
    "MAE = mean_absolute_error(y_val, prediction)\n",
    "print('Validation MAE:', MAE)"
   ]
  },
  {
   "cell_type": "code",
   "execution_count": 65,
   "metadata": {},
   "outputs": [
    {
     "name": "stdout",
     "output_type": "stream",
     "text": [
      "Fitting 3 folds for each of 30 candidates, totalling 90 fits\n"
     ]
    },
    {
     "name": "stderr",
     "output_type": "stream",
     "text": [
      "C:\\Users\\wlyip\\Anaconda3\\lib\\site-packages\\sklearn\\model_selection\\_split.py:2053: FutureWarning: You should specify a value for 'cv' instead of relying on the default value. The default value will change from 3 to 5 in version 0.22.\n",
      "  warnings.warn(CV_WARNING, FutureWarning)\n",
      "[Parallel(n_jobs=1)]: Using backend SequentialBackend with 1 concurrent workers.\n",
      "[Parallel(n_jobs=1)]: Done  90 out of  90 | elapsed:  1.0min finished\n"
     ]
    },
    {
     "data": {
      "text/plain": [
       "-0.01703471725538293"
      ]
     },
     "execution_count": 65,
     "metadata": {},
     "output_type": "execute_result"
    }
   ],
   "source": [
    "model = SVR()\n",
    "\n",
    "SVR_param_grid = {'C': np.arange(1, 21, 2),\n",
    "                       'kernel': ['poly', 'rbf', 'sigmoid'],\n",
    "                       'gamma': ['auto']}\n",
    "\n",
    "gsSVR = GridSearchCV(model, param_grid = SVR_param_grid, \n",
    "                     scoring = 'neg_mean_squared_error', verbose = 1)\n",
    "\n",
    "gsSVR.fit(X_train, y_train)\n",
    "\n",
    "SVR_best = gsSVR.best_estimator_\n",
    "\n",
    "gsSVR.best_score_"
   ]
  },
  {
   "cell_type": "code",
   "execution_count": 66,
   "metadata": {},
   "outputs": [
    {
     "name": "stdout",
     "output_type": "stream",
     "text": [
      "Validation MAE: 0.10607930905762229\n"
     ]
    }
   ],
   "source": [
    "prediction = LinearSVR_best.predict(X_val)\n",
    "MAE = mean_absolute_error(y_val, prediction)\n",
    "print('Validation MAE:', MAE)"
   ]
  },
  {
   "cell_type": "code",
   "execution_count": 118,
   "metadata": {},
   "outputs": [],
   "source": [
    "prediction = SVR_best.predict(X_test)\n",
    "prediction = np.expm1(prediction)\n",
    "submission = pd.DataFrame()\n",
    "submission['Id'] = test_id\n",
    "submission['SalePrice'] = prediction\n",
    "submission.to_csv('SVR_best.csv', index=False)"
   ]
  },
  {
   "cell_type": "markdown",
   "metadata": {},
   "source": [
    "## Gradient Boosting"
   ]
  },
  {
   "cell_type": "code",
   "execution_count": 67,
   "metadata": {},
   "outputs": [],
   "source": [
    "from sklearn.ensemble import GradientBoostingRegressor"
   ]
  },
  {
   "cell_type": "code",
   "execution_count": 68,
   "metadata": {},
   "outputs": [
    {
     "data": {
      "text/plain": [
       "GradientBoostingRegressor(alpha=0.9, criterion='friedman_mse', init=None,\n",
       "             learning_rate=0.1, loss='ls', max_depth=3, max_features=None,\n",
       "             max_leaf_nodes=None, min_impurity_decrease=0.0,\n",
       "             min_impurity_split=None, min_samples_leaf=1,\n",
       "             min_samples_split=2, min_weight_fraction_leaf=0.0,\n",
       "             n_estimators=100, n_iter_no_change=None, presort='auto',\n",
       "             random_state=None, subsample=1.0, tol=0.0001,\n",
       "             validation_fraction=0.1, verbose=0, warm_start=False)"
      ]
     },
     "execution_count": 68,
     "metadata": {},
     "output_type": "execute_result"
    }
   ],
   "source": [
    "model = GradientBoostingRegressor()\n",
    "model.fit(X_train, y_train)"
   ]
  },
  {
   "cell_type": "code",
   "execution_count": 69,
   "metadata": {},
   "outputs": [
    {
     "name": "stdout",
     "output_type": "stream",
     "text": [
      "Validation MAE: 0.09793069961099322\n"
     ]
    }
   ],
   "source": [
    "prediction = model.predict(X_val)\n",
    "MAE = mean_absolute_error(y_val, prediction)\n",
    "print('Validation MAE:', MAE)"
   ]
  },
  {
   "cell_type": "code",
   "execution_count": 70,
   "metadata": {},
   "outputs": [
    {
     "name": "stdout",
     "output_type": "stream",
     "text": [
      "Fitting 3 folds for each of 27 candidates, totalling 81 fits\n"
     ]
    },
    {
     "name": "stderr",
     "output_type": "stream",
     "text": [
      "C:\\Users\\wlyip\\Anaconda3\\lib\\site-packages\\sklearn\\model_selection\\_split.py:2053: FutureWarning: You should specify a value for 'cv' instead of relying on the default value. The default value will change from 3 to 5 in version 0.22.\n",
      "  warnings.warn(CV_WARNING, FutureWarning)\n",
      "[Parallel(n_jobs=1)]: Using backend SequentialBackend with 1 concurrent workers.\n",
      "[Parallel(n_jobs=1)]: Done  81 out of  81 | elapsed:  1.6min finished\n"
     ]
    },
    {
     "data": {
      "text/plain": [
       "-0.01601828518560364"
      ]
     },
     "execution_count": 70,
     "metadata": {},
     "output_type": "execute_result"
    }
   ],
   "source": [
    "model = GradientBoostingRegressor()\n",
    "\n",
    "GBR_param_grid = {'n_estimators': [150, 250, 350],\n",
    "                       'max_depth': [1, 2, 3],\n",
    "                       'min_samples_split': [5, 6, 7]}\n",
    "\n",
    "gsGBR = GridSearchCV(model, param_grid = GBR_param_grid, \n",
    "                     scoring = 'neg_mean_squared_error', verbose = 1)\n",
    "\n",
    "gsGBR.fit(X_train, y_train)\n",
    "\n",
    "GBR_best = gsGBR.best_estimator_\n",
    "\n",
    "gsGBR.best_score_"
   ]
  },
  {
   "cell_type": "code",
   "execution_count": 71,
   "metadata": {},
   "outputs": [
    {
     "name": "stdout",
     "output_type": "stream",
     "text": [
      "Validation MAE: 0.09684031945315108\n"
     ]
    }
   ],
   "source": [
    "prediction = GBR_best.predict(X_val)\n",
    "MAE = mean_absolute_error(y_val, prediction)\n",
    "print('Validation MAE:', MAE)"
   ]
  },
  {
   "cell_type": "code",
   "execution_count": 127,
   "metadata": {},
   "outputs": [],
   "source": [
    "prediction = GBR_best.predict(X_test)\n",
    "prediction = np.expm1(prediction)\n",
    "submission = pd.DataFrame()\n",
    "submission['Id'] = test_id\n",
    "submission['SalePrice'] = prediction\n",
    "submission.to_csv('GBR_best.csv', index=False)"
   ]
  },
  {
   "cell_type": "markdown",
   "metadata": {},
   "source": [
    "**XGBoost**"
   ]
  },
  {
   "cell_type": "code",
   "execution_count": 72,
   "metadata": {},
   "outputs": [],
   "source": [
    "from xgboost import XGBRegressor"
   ]
  },
  {
   "cell_type": "code",
   "execution_count": 73,
   "metadata": {},
   "outputs": [
    {
     "data": {
      "text/plain": [
       "XGBRegressor(base_score=0.5, booster='gbtree', colsample_bylevel=1,\n",
       "       colsample_bytree=1, gamma=0, learning_rate=0.1, max_delta_step=0,\n",
       "       max_depth=3, min_child_weight=1, missing=None, n_estimators=100,\n",
       "       n_jobs=1, nthread=None, objective='reg:linear', random_state=0,\n",
       "       reg_alpha=0, reg_lambda=1, scale_pos_weight=1, seed=None,\n",
       "       silent=True, subsample=1)"
      ]
     },
     "execution_count": 73,
     "metadata": {},
     "output_type": "execute_result"
    }
   ],
   "source": [
    "model = XGBRegressor()\n",
    "model.fit(X_train, y_train)"
   ]
  },
  {
   "cell_type": "code",
   "execution_count": 74,
   "metadata": {},
   "outputs": [
    {
     "name": "stderr",
     "output_type": "stream",
     "text": [
      "C:\\Users\\wlyip\\Anaconda3\\lib\\site-packages\\sklearn\\model_selection\\_split.py:2053: FutureWarning: You should specify a value for 'cv' instead of relying on the default value. The default value will change from 3 to 5 in version 0.22.\n",
      "  warnings.warn(CV_WARNING, FutureWarning)\n",
      "[Parallel(n_jobs=1)]: Using backend SequentialBackend with 1 concurrent workers.\n"
     ]
    },
    {
     "name": "stdout",
     "output_type": "stream",
     "text": [
      "Fitting 3 folds for each of 15 candidates, totalling 45 fits\n"
     ]
    },
    {
     "name": "stderr",
     "output_type": "stream",
     "text": [
      "[Parallel(n_jobs=1)]: Done  45 out of  45 | elapsed:  1.2min finished\n"
     ]
    },
    {
     "data": {
      "text/plain": [
       "-0.01520978589282166"
      ]
     },
     "execution_count": 74,
     "metadata": {},
     "output_type": "execute_result"
    }
   ],
   "source": [
    "model = XGBRegressor()\n",
    "\n",
    "XGB_param_grid = {'n_estimators': [100, 200, 300, 400, 500],\n",
    "                   'max_depth': [1, 2, 3]}\n",
    "\n",
    "gsXGB = GridSearchCV(model, param_grid = XGB_param_grid, \n",
    "                     scoring = 'neg_mean_squared_error', verbose = 1)\n",
    "\n",
    "gsXGB.fit(X_train, y_train)\n",
    "\n",
    "XGB_best = gsXGB.best_estimator_\n",
    "\n",
    "gsXGB.best_score_"
   ]
  },
  {
   "cell_type": "code",
   "execution_count": 75,
   "metadata": {},
   "outputs": [
    {
     "name": "stdout",
     "output_type": "stream",
     "text": [
      "Validation MAE: 0.0932823356233039\n"
     ]
    }
   ],
   "source": [
    "prediction = XGB_best.predict(X_val)\n",
    "MAE = mean_absolute_error(y_val, prediction)\n",
    "print('Validation MAE:', MAE)"
   ]
  },
  {
   "cell_type": "code",
   "execution_count": 132,
   "metadata": {},
   "outputs": [],
   "source": [
    "prediction = XGB_best.predict(X_test)\n",
    "prediction = np.expm1(prediction)\n",
    "submission = pd.DataFrame()\n",
    "submission['Id'] = test_id\n",
    "submission['SalePrice'] = prediction\n",
    "submission.to_csv('XGB_best.csv', index=False)"
   ]
  },
  {
   "cell_type": "markdown",
   "metadata": {},
   "source": [
    "## Model Review"
   ]
  },
  {
   "cell_type": "markdown",
   "metadata": {},
   "source": [
    "**ElasticNet**"
   ]
  },
  {
   "cell_type": "code",
   "execution_count": 133,
   "metadata": {},
   "outputs": [
    {
     "name": "stdout",
     "output_type": "stream",
     "text": [
      "---------------------------------------\n",
      "425 zero coefficients\n",
      "134 non-zero coefficients\n",
      "---------------------------------------\n",
      "Intercept:  10.422956983719992\n",
      "---------------------------------------\n",
      "Top 20 contributers to increased price:\n",
      "---------------------------------------\n",
      "GrLivArea               1.115956\n",
      "TotalBsmtSF             0.292262\n",
      "BsmtFinSF1              0.190665\n",
      "FullBath                0.167901\n",
      "GarageCars              0.133748\n",
      "GarageArea              0.112906\n",
      "LotArea                 0.107753\n",
      "Neighborhood_Crawfor    0.098022\n",
      "Neighborhood_StoneBr    0.089175\n",
      "WoodDeckSF              0.086748\n",
      "ScreenPorch             0.074713\n",
      "BsmtFullBath            0.065927\n",
      "OverallQual             0.063245\n",
      "CentralAir              0.061866\n",
      "Neighborhood_NridgHt    0.060825\n",
      "BsmtExposure_4          0.056656\n",
      "Functional_7            0.055747\n",
      "Neighborhood_BrkSide    0.045914\n",
      "Heating_GasW            0.045393\n",
      "Neighborhood_ClearCr    0.043383\n",
      "dtype: float64\n",
      "---------------------------------------\n",
      "Top 10 contributers to decreased price:\n",
      "---------------------------------------\n",
      "MSZoning_C (all)        -0.330079\n",
      "SaleCondition_Abnorml   -0.073099\n",
      "MSZoning_RM             -0.068249\n",
      "YearBuilt_1920          -0.061786\n",
      "MSSubClass_160          -0.058383\n",
      "MSSubClass_30           -0.058215\n",
      "YearRemodAdd_1958       -0.057074\n",
      "Neighborhood_MeadowV    -0.042091\n",
      "SaleType_WD             -0.041852\n",
      "Functional_2            -0.039014\n",
      "dtype: float64\n",
      "---------------------------------------\n",
      "Zero coefficients:\n",
      "---------------------------------------\n",
      "['1stFlrSF', '2ndFlrSF', 'Alley_Grvl', 'Alley_Pave', 'BedroomAbvGr', 'BldgType_2fmCon', 'BldgType_Duplex', 'BldgType_TwnhsE', 'BsmtCond', 'BsmtExposure_3', 'BsmtExposure_None', 'BsmtFinSF2', 'BsmtFinType1_BLQ', 'BsmtFinType1_None', 'BsmtFinType2_ALQ', 'BsmtFinType2_GLQ', 'BsmtFinType2_LwQ', 'BsmtFinType2_None', 'BsmtFinType2_Rec', 'BsmtFinType2_Unf', 'BsmtUnfSF', 'Condition1_Feedr', 'Condition1_PosA', 'Condition1_PosN', 'Condition1_RRAe', 'Condition1_RRAn', 'Condition1_RRNe', 'Condition1_RRNn', 'Condition2_Artery', 'Condition2_Feedr', 'Condition2_Norm', 'Condition2_PosA', 'Condition2_PosN', 'Condition2_RRAe', 'Condition2_RRAn', 'Condition2_RRNn', 'Electrical_FuseA', 'Electrical_FuseF', 'Electrical_FuseP', 'Electrical_Mix', 'EnclosedPorch', 'ExterCond', 'Exterior1st_AsbShng', 'Exterior1st_AsphShn', 'Exterior1st_BrkComm', 'Exterior1st_CBlock', 'Exterior1st_CemntBd', 'Exterior1st_ImStucc', 'Exterior1st_Plywood', 'Exterior1st_Stone', 'Exterior1st_Stucco', 'Exterior1st_WdShing', 'Exterior2nd_AsbShng', 'Exterior2nd_AsphShn', 'Exterior2nd_Brk Cmn', 'Exterior2nd_BrkFace', 'Exterior2nd_CBlock', 'Exterior2nd_CmentBd', 'Exterior2nd_ImStucc', 'Exterior2nd_MetalSd', 'Exterior2nd_Other', 'Exterior2nd_Plywood', 'Exterior2nd_Stone', 'Exterior2nd_Stucco', 'Exterior2nd_VinylSd', 'Exterior2nd_Wd Shng', 'Fence_GdPrv', 'Fence_MnPrv', 'Fence_MnWw', 'Fireplaces', 'Foundation_CBlock', 'Foundation_Slab', 'Foundation_Stone', 'Foundation_Wood', 'Functional_1', 'Functional_3', 'Functional_4', 'Functional_5', 'Functional_Functional', 'GarageType_2Types', 'GarageType_Basment', 'GarageType_CarPort', 'GarageType_Detchd', 'GarageType_None', 'GarageYrBlt_0.0', 'GarageYrBlt_1895.0', 'GarageYrBlt_1896.0', 'GarageYrBlt_1900.0', 'GarageYrBlt_1906.0', 'GarageYrBlt_1908.0', 'GarageYrBlt_1910.0', 'GarageYrBlt_1914.0', 'GarageYrBlt_1915.0', 'GarageYrBlt_1916.0', 'GarageYrBlt_1917.0', 'GarageYrBlt_1918.0', 'GarageYrBlt_1919.0', 'GarageYrBlt_1920.0', 'GarageYrBlt_1921.0', 'GarageYrBlt_1923.0', 'GarageYrBlt_1924.0', 'GarageYrBlt_1925.0', 'GarageYrBlt_1926.0', 'GarageYrBlt_1927.0', 'GarageYrBlt_1928.0', 'GarageYrBlt_1929.0', 'GarageYrBlt_1930.0', 'GarageYrBlt_1931.0', 'GarageYrBlt_1932.0', 'GarageYrBlt_1933.0', 'GarageYrBlt_1934.0', 'GarageYrBlt_1935.0', 'GarageYrBlt_1936.0', 'GarageYrBlt_1937.0', 'GarageYrBlt_1938.0', 'GarageYrBlt_1939.0', 'GarageYrBlt_1941.0', 'GarageYrBlt_1942.0', 'GarageYrBlt_1943.0', 'GarageYrBlt_1945.0', 'GarageYrBlt_1946.0', 'GarageYrBlt_1947.0', 'GarageYrBlt_1948.0', 'GarageYrBlt_1949.0', 'GarageYrBlt_1950.0', 'GarageYrBlt_1951.0', 'GarageYrBlt_1952.0', 'GarageYrBlt_1953.0', 'GarageYrBlt_1954.0', 'GarageYrBlt_1955.0', 'GarageYrBlt_1956.0', 'GarageYrBlt_1957.0', 'GarageYrBlt_1959.0', 'GarageYrBlt_1960.0', 'GarageYrBlt_1961.0', 'GarageYrBlt_1962.0', 'GarageYrBlt_1963.0', 'GarageYrBlt_1964.0', 'GarageYrBlt_1967.0', 'GarageYrBlt_1968.0', 'GarageYrBlt_1969.0', 'GarageYrBlt_1970.0', 'GarageYrBlt_1971.0', 'GarageYrBlt_1972.0', 'GarageYrBlt_1973.0', 'GarageYrBlt_1975.0', 'GarageYrBlt_1976.0', 'GarageYrBlt_1978.0', 'GarageYrBlt_1979.0', 'GarageYrBlt_1980.0', 'GarageYrBlt_1981.0', 'GarageYrBlt_1982.0', 'GarageYrBlt_1983.0', 'GarageYrBlt_1984.0', 'GarageYrBlt_1985.0', 'GarageYrBlt_1986.0', 'GarageYrBlt_1987.0', 'GarageYrBlt_1988.0', 'GarageYrBlt_1989.0', 'GarageYrBlt_1991.0', 'GarageYrBlt_1992.0', 'GarageYrBlt_1993.0', 'GarageYrBlt_1994.0', 'GarageYrBlt_1995.0', 'GarageYrBlt_1996.0', 'GarageYrBlt_1997.0', 'GarageYrBlt_1998.0', 'GarageYrBlt_1999.0', 'GarageYrBlt_2000.0', 'GarageYrBlt_2001.0', 'GarageYrBlt_2002.0', 'GarageYrBlt_2004.0', 'GarageYrBlt_2005.0', 'GarageYrBlt_2006.0', 'GarageYrBlt_2007.0', 'GarageYrBlt_2010.0', 'GarageYrBlt_2207.0', 'Has3SsnPorch', 'HasPool', 'Heating_Floor', 'Heating_GasA', 'Heating_Grav', 'Heating_OthW', 'Heating_Wall', 'HouseStyle_1.5Fin', 'HouseStyle_1.5Unf', 'HouseStyle_1Story', 'HouseStyle_2.5Fin', 'HouseStyle_2.5Unf', 'HouseStyle_2Story', 'HouseStyle_SFoyer', 'KitchenAbvGr', 'LandContour_Bnk', 'LandContour_HLS', 'LandContour_Low', 'LandSlope', 'LotConfig_FR2', 'LotConfig_FR3', 'LowQualFinSF', 'MSSubClass_120', 'MSSubClass_150', 'MSSubClass_180', 'MSSubClass_190', 'MSSubClass_40', 'MSSubClass_45', 'MSSubClass_70', 'MSSubClass_75', 'MSSubClass_85', 'MSSubClass_90', 'MSZoning_RH', 'MSZoning_RL', 'MasVnrArea', 'MasVnrType_0', 'MasVnrType_BrkFace', 'MasVnrType_None', 'MiscFeature_Gar2', 'MiscFeature_Othr', 'MiscFeature_Shed', 'MiscFeature_TenC', 'MiscVal', 'MoSold_1', 'MoSold_10', 'MoSold_11', 'MoSold_12', 'MoSold_3', 'MoSold_4', 'MoSold_8', 'Neighborhood_Blmngtn', 'Neighborhood_Blueste', 'Neighborhood_BrDale', 'Neighborhood_CollgCr', 'Neighborhood_Gilbert', 'Neighborhood_IDOTRR', 'Neighborhood_Mitchel', 'Neighborhood_NPkVill', 'Neighborhood_NWAmes', 'Neighborhood_SWISU', 'Neighborhood_Sawyer', 'Neighborhood_SawyerW', 'Neighborhood_Timber', 'Neighborhood_Veenker', 'PavedDrive_P', 'RoofMatl_CompShg', 'RoofMatl_Membran', 'RoofMatl_Metal', 'RoofMatl_Roll', 'RoofMatl_Tar&Grv', 'RoofMatl_WdShake', 'RoofMatl_WdShngl', 'RoofStyle_Flat', 'RoofStyle_Gable', 'RoofStyle_Gambrel', 'RoofStyle_Mansard', 'RoofStyle_Shed', 'SaleCondition_AdjLand', 'SaleCondition_Alloca', 'SaleCondition_Family', 'SaleCondition_Partial', 'SaleType_CWD', 'SaleType_Con', 'SaleType_ConLI', 'SaleType_ConLw', 'SaleType_Oth', 'Street_Grvl', 'Street_Pave', 'YearBuilt_1872', 'YearBuilt_1875', 'YearBuilt_1879', 'YearBuilt_1880', 'YearBuilt_1882', 'YearBuilt_1885', 'YearBuilt_1890', 'YearBuilt_1892', 'YearBuilt_1893', 'YearBuilt_1895', 'YearBuilt_1896', 'YearBuilt_1898', 'YearBuilt_1901', 'YearBuilt_1902', 'YearBuilt_1904', 'YearBuilt_1905', 'YearBuilt_1906', 'YearBuilt_1907', 'YearBuilt_1908', 'YearBuilt_1911', 'YearBuilt_1912', 'YearBuilt_1913', 'YearBuilt_1914', 'YearBuilt_1917', 'YearBuilt_1918', 'YearBuilt_1919', 'YearBuilt_1921', 'YearBuilt_1922', 'YearBuilt_1923', 'YearBuilt_1924', 'YearBuilt_1925', 'YearBuilt_1926', 'YearBuilt_1927', 'YearBuilt_1928', 'YearBuilt_1929', 'YearBuilt_1931', 'YearBuilt_1932', 'YearBuilt_1934', 'YearBuilt_1935', 'YearBuilt_1936', 'YearBuilt_1937', 'YearBuilt_1938', 'YearBuilt_1939', 'YearBuilt_1940', 'YearBuilt_1942', 'YearBuilt_1945', 'YearBuilt_1946', 'YearBuilt_1947', 'YearBuilt_1948', 'YearBuilt_1949', 'YearBuilt_1950', 'YearBuilt_1951', 'YearBuilt_1952', 'YearBuilt_1953', 'YearBuilt_1954', 'YearBuilt_1955', 'YearBuilt_1956', 'YearBuilt_1957', 'YearBuilt_1958', 'YearBuilt_1959', 'YearBuilt_1961', 'YearBuilt_1962', 'YearBuilt_1963', 'YearBuilt_1964', 'YearBuilt_1965', 'YearBuilt_1966', 'YearBuilt_1967', 'YearBuilt_1968', 'YearBuilt_1969', 'YearBuilt_1970', 'YearBuilt_1971', 'YearBuilt_1972', 'YearBuilt_1974', 'YearBuilt_1975', 'YearBuilt_1977', 'YearBuilt_1978', 'YearBuilt_1979', 'YearBuilt_1980', 'YearBuilt_1981', 'YearBuilt_1982', 'YearBuilt_1983', 'YearBuilt_1984', 'YearBuilt_1985', 'YearBuilt_1986', 'YearBuilt_1987', 'YearBuilt_1988', 'YearBuilt_1989', 'YearBuilt_1990', 'YearBuilt_1991', 'YearBuilt_1992', 'YearBuilt_1993', 'YearBuilt_1994', 'YearBuilt_1995', 'YearBuilt_1996', 'YearBuilt_1997', 'YearBuilt_1998', 'YearBuilt_1999', 'YearBuilt_2000', 'YearBuilt_2001', 'YearBuilt_2002', 'YearBuilt_2003', 'YearBuilt_2004', 'YearBuilt_2005', 'YearBuilt_2006', 'YearBuilt_2007', 'YearBuilt_2009', 'YearBuilt_2010', 'YearRemodAdd_1951', 'YearRemodAdd_1952', 'YearRemodAdd_1953', 'YearRemodAdd_1954', 'YearRemodAdd_1955', 'YearRemodAdd_1956', 'YearRemodAdd_1957', 'YearRemodAdd_1959', 'YearRemodAdd_1960', 'YearRemodAdd_1961', 'YearRemodAdd_1964', 'YearRemodAdd_1965', 'YearRemodAdd_1967', 'YearRemodAdd_1968', 'YearRemodAdd_1969', 'YearRemodAdd_1970', 'YearRemodAdd_1971', 'YearRemodAdd_1972', 'YearRemodAdd_1973', 'YearRemodAdd_1974', 'YearRemodAdd_1975', 'YearRemodAdd_1976', 'YearRemodAdd_1977', 'YearRemodAdd_1978', 'YearRemodAdd_1979', 'YearRemodAdd_1980', 'YearRemodAdd_1981', 'YearRemodAdd_1982', 'YearRemodAdd_1983', 'YearRemodAdd_1984', 'YearRemodAdd_1985', 'YearRemodAdd_1986', 'YearRemodAdd_1987', 'YearRemodAdd_1988', 'YearRemodAdd_1989', 'YearRemodAdd_1990', 'YearRemodAdd_1991', 'YearRemodAdd_1992', 'YearRemodAdd_1993', 'YearRemodAdd_1994', 'YearRemodAdd_1996', 'YearRemodAdd_1998', 'YearRemodAdd_1999', 'YearRemodAdd_2001', 'YearRemodAdd_2002', 'YearRemodAdd_2004', 'YearRemodAdd_2005', 'YearRemodAdd_2006', 'YearRemodAdd_2008', 'YearRemodAdd_2009', 'YearRemodAdd_2010', 'YrSold_2007', 'YrSold_2008']\n"
     ]
    },
    {
     "data": {
      "image/png": "[encoded data removed]",
      "text/plain": [
       "<Figure size 576x1440 with 1 Axes>"
      ]
     },
     "metadata": {},
     "output_type": "display_data"
    }
   ],
   "source": [
    "en_coefs = pd.Series(Elastic_best.coef_, index=X_train.columns)\n",
    "\n",
    "plt.figure(figsize=(8, 20))\n",
    "en_coefs[en_coefs.abs()>0.02].sort_values().plot.barh()\n",
    "plt.title('Coefficients with magnitude greater than 0.02')\n",
    "\n",
    "print('---------------------------------------')\n",
    "print(sum(en_coefs==0),'zero coefficients')\n",
    "print(sum(en_coefs!=0),'non-zero coefficients')\n",
    "print('---------------------------------------')\n",
    "print('Intercept: ', Elastic_best.intercept_)\n",
    "print('---------------------------------------')\n",
    "print('Top 20 contributers to increased price:')\n",
    "print('---------------------------------------')\n",
    "print(en_coefs.sort_values(ascending=False).head(20))\n",
    "print('---------------------------------------')\n",
    "print('Top 10 contributers to decreased price:')\n",
    "print('---------------------------------------')\n",
    "print(en_coefs.sort_values(ascending=True).head(10))\n",
    "print('---------------------------------------')\n",
    "print('Zero coefficients:')\n",
    "print('---------------------------------------')\n",
    "print(en_coefs[en_coefs==0].index.sort_values().tolist())"
   ]
  },
  {
   "cell_type": "markdown",
   "metadata": {},
   "source": [
    "**Lasso**"
   ]
  },
  {
   "cell_type": "code",
   "execution_count": 134,
   "metadata": {},
   "outputs": [
    {
     "name": "stdout",
     "output_type": "stream",
     "text": [
      "---------------------------------------\n",
      "440 zero coefficients\n",
      "119 non-zero coefficients\n",
      "---------------------------------------\n",
      "Intercept:  10.42982190701777\n",
      "---------------------------------------\n",
      "Top 20 contributers to increased price:\n",
      "---------------------------------------\n",
      "GrLivArea               1.155004\n",
      "TotalBsmtSF             0.277653\n",
      "BsmtFinSF1              0.188105\n",
      "FullBath                0.152974\n",
      "GarageCars              0.134215\n",
      "GarageArea              0.109031\n",
      "Neighborhood_Crawfor    0.093533\n",
      "Neighborhood_StoneBr    0.085204\n",
      "LotArea                 0.079830\n",
      "WoodDeckSF              0.076821\n",
      "ScreenPorch             0.067654\n",
      "BsmtFullBath            0.065221\n",
      "OverallQual             0.063448\n",
      "Neighborhood_NridgHt    0.060628\n",
      "CentralAir              0.060050\n",
      "BsmtExposure_4          0.058277\n",
      "Functional_7            0.055496\n",
      "Neighborhood_BrkSide    0.044052\n",
      "Heating_GasW            0.043335\n",
      "Neighborhood_ClearCr    0.042063\n",
      "dtype: float64\n",
      "---------------------------------------\n",
      "Top 10 contributers to decreased price:\n",
      "---------------------------------------\n",
      "MSZoning_C (all)        -0.322408\n",
      "SaleCondition_Abnorml   -0.077193\n",
      "MSZoning_RM             -0.070563\n",
      "YearBuilt_1920          -0.061819\n",
      "MSSubClass_160          -0.059075\n",
      "MSSubClass_30           -0.056494\n",
      "YearRemodAdd_1958       -0.051661\n",
      "SaleType_WD             -0.042615\n",
      "Neighborhood_MeadowV    -0.037992\n",
      "Exterior1st_Wd Sdng     -0.033578\n",
      "dtype: float64\n",
      "---------------------------------------\n",
      "Zero coefficients:\n",
      "---------------------------------------\n",
      "['1stFlrSF', '2ndFlrSF', 'Alley_Grvl', 'Alley_None', 'Alley_Pave', 'BedroomAbvGr', 'BldgType_2fmCon', 'BldgType_Duplex', 'BldgType_TwnhsE', 'BsmtCond', 'BsmtExposure_3', 'BsmtExposure_None', 'BsmtFinSF2', 'BsmtFinType1_BLQ', 'BsmtFinType1_None', 'BsmtFinType2_ALQ', 'BsmtFinType2_GLQ', 'BsmtFinType2_LwQ', 'BsmtFinType2_None', 'BsmtFinType2_Rec', 'BsmtFinType2_Unf', 'BsmtUnfSF', 'Condition1_Feedr', 'Condition1_PosA', 'Condition1_PosN', 'Condition1_RRAe', 'Condition1_RRAn', 'Condition1_RRNe', 'Condition1_RRNn', 'Condition2_Artery', 'Condition2_Feedr', 'Condition2_Norm', 'Condition2_PosA', 'Condition2_PosN', 'Condition2_RRAe', 'Condition2_RRAn', 'Condition2_RRNn', 'Electrical_FuseA', 'Electrical_FuseF', 'Electrical_FuseP', 'Electrical_Mix', 'EnclosedPorch', 'ExterCond', 'Exterior1st_AsbShng', 'Exterior1st_AsphShn', 'Exterior1st_BrkComm', 'Exterior1st_CBlock', 'Exterior1st_CemntBd', 'Exterior1st_ImStucc', 'Exterior1st_Plywood', 'Exterior1st_Stone', 'Exterior1st_Stucco', 'Exterior1st_WdShing', 'Exterior2nd_AsbShng', 'Exterior2nd_AsphShn', 'Exterior2nd_Brk Cmn', 'Exterior2nd_BrkFace', 'Exterior2nd_CBlock', 'Exterior2nd_CmentBd', 'Exterior2nd_HdBoard', 'Exterior2nd_ImStucc', 'Exterior2nd_MetalSd', 'Exterior2nd_Other', 'Exterior2nd_Plywood', 'Exterior2nd_Stone', 'Exterior2nd_Stucco', 'Exterior2nd_VinylSd', 'Exterior2nd_Wd Shng', 'Fence_GdPrv', 'Fence_GdWo', 'Fence_MnPrv', 'Fence_MnWw', 'Fireplaces', 'Foundation_CBlock', 'Foundation_Slab', 'Foundation_Stone', 'Foundation_Wood', 'Functional_1', 'Functional_3', 'Functional_4', 'Functional_5', 'Functional_Functional', 'GarageType_2Types', 'GarageType_Basment', 'GarageType_CarPort', 'GarageType_Detchd', 'GarageType_None', 'GarageYrBlt_0.0', 'GarageYrBlt_1895.0', 'GarageYrBlt_1896.0', 'GarageYrBlt_1900.0', 'GarageYrBlt_1906.0', 'GarageYrBlt_1908.0', 'GarageYrBlt_1910.0', 'GarageYrBlt_1914.0', 'GarageYrBlt_1915.0', 'GarageYrBlt_1916.0', 'GarageYrBlt_1917.0', 'GarageYrBlt_1918.0', 'GarageYrBlt_1919.0', 'GarageYrBlt_1920.0', 'GarageYrBlt_1921.0', 'GarageYrBlt_1922.0', 'GarageYrBlt_1923.0', 'GarageYrBlt_1924.0', 'GarageYrBlt_1925.0', 'GarageYrBlt_1926.0', 'GarageYrBlt_1927.0', 'GarageYrBlt_1928.0', 'GarageYrBlt_1929.0', 'GarageYrBlt_1930.0', 'GarageYrBlt_1931.0', 'GarageYrBlt_1932.0', 'GarageYrBlt_1933.0', 'GarageYrBlt_1934.0', 'GarageYrBlt_1935.0', 'GarageYrBlt_1936.0', 'GarageYrBlt_1937.0', 'GarageYrBlt_1938.0', 'GarageYrBlt_1939.0', 'GarageYrBlt_1941.0', 'GarageYrBlt_1942.0', 'GarageYrBlt_1943.0', 'GarageYrBlt_1945.0', 'GarageYrBlt_1946.0', 'GarageYrBlt_1947.0', 'GarageYrBlt_1948.0', 'GarageYrBlt_1949.0', 'GarageYrBlt_1950.0', 'GarageYrBlt_1951.0', 'GarageYrBlt_1952.0', 'GarageYrBlt_1953.0', 'GarageYrBlt_1954.0', 'GarageYrBlt_1955.0', 'GarageYrBlt_1956.0', 'GarageYrBlt_1957.0', 'GarageYrBlt_1958.0', 'GarageYrBlt_1959.0', 'GarageYrBlt_1960.0', 'GarageYrBlt_1961.0', 'GarageYrBlt_1962.0', 'GarageYrBlt_1963.0', 'GarageYrBlt_1964.0', 'GarageYrBlt_1967.0', 'GarageYrBlt_1968.0', 'GarageYrBlt_1969.0', 'GarageYrBlt_1970.0', 'GarageYrBlt_1971.0', 'GarageYrBlt_1972.0', 'GarageYrBlt_1973.0', 'GarageYrBlt_1975.0', 'GarageYrBlt_1976.0', 'GarageYrBlt_1977.0', 'GarageYrBlt_1978.0', 'GarageYrBlt_1979.0', 'GarageYrBlt_1980.0', 'GarageYrBlt_1981.0', 'GarageYrBlt_1982.0', 'GarageYrBlt_1983.0', 'GarageYrBlt_1984.0', 'GarageYrBlt_1985.0', 'GarageYrBlt_1986.0', 'GarageYrBlt_1987.0', 'GarageYrBlt_1988.0', 'GarageYrBlt_1989.0', 'GarageYrBlt_1991.0', 'GarageYrBlt_1992.0', 'GarageYrBlt_1993.0', 'GarageYrBlt_1994.0', 'GarageYrBlt_1995.0', 'GarageYrBlt_1996.0', 'GarageYrBlt_1997.0', 'GarageYrBlt_1998.0', 'GarageYrBlt_1999.0', 'GarageYrBlt_2000.0', 'GarageYrBlt_2001.0', 'GarageYrBlt_2002.0', 'GarageYrBlt_2004.0', 'GarageYrBlt_2005.0', 'GarageYrBlt_2006.0', 'GarageYrBlt_2007.0', 'GarageYrBlt_2010.0', 'GarageYrBlt_2207.0', 'Has3SsnPorch', 'HasPool', 'Heating_Floor', 'Heating_GasA', 'Heating_Grav', 'Heating_OthW', 'Heating_Wall', 'HouseStyle_1.5Fin', 'HouseStyle_1.5Unf', 'HouseStyle_1Story', 'HouseStyle_2.5Fin', 'HouseStyle_2.5Unf', 'HouseStyle_2Story', 'HouseStyle_SFoyer', 'KitchenAbvGr', 'LandContour_Bnk', 'LandContour_HLS', 'LandContour_Low', 'LandSlope', 'LotConfig_FR2', 'LotConfig_FR3', 'LowQualFinSF', 'MSSubClass_120', 'MSSubClass_150', 'MSSubClass_180', 'MSSubClass_190', 'MSSubClass_40', 'MSSubClass_45', 'MSSubClass_60', 'MSSubClass_70', 'MSSubClass_75', 'MSSubClass_85', 'MSSubClass_90', 'MSZoning_RH', 'MSZoning_RL', 'MasVnrArea', 'MasVnrType_0', 'MasVnrType_BrkFace', 'MasVnrType_None', 'MiscFeature_Gar2', 'MiscFeature_None', 'MiscFeature_Othr', 'MiscFeature_Shed', 'MiscFeature_TenC', 'MiscVal', 'MoSold_1', 'MoSold_10', 'MoSold_11', 'MoSold_12', 'MoSold_3', 'MoSold_4', 'MoSold_8', 'MoSold_9', 'Neighborhood_Blmngtn', 'Neighborhood_Blueste', 'Neighborhood_BrDale', 'Neighborhood_CollgCr', 'Neighborhood_Gilbert', 'Neighborhood_IDOTRR', 'Neighborhood_Mitchel', 'Neighborhood_NPkVill', 'Neighborhood_NWAmes', 'Neighborhood_SWISU', 'Neighborhood_Sawyer', 'Neighborhood_SawyerW', 'Neighborhood_Timber', 'Neighborhood_Veenker', 'PavedDrive_N', 'PavedDrive_P', 'RoofMatl_CompShg', 'RoofMatl_Membran', 'RoofMatl_Metal', 'RoofMatl_Roll', 'RoofMatl_Tar&Grv', 'RoofMatl_WdShake', 'RoofMatl_WdShngl', 'RoofStyle_Flat', 'RoofStyle_Gable', 'RoofStyle_Gambrel', 'RoofStyle_Mansard', 'RoofStyle_Shed', 'SaleCondition_AdjLand', 'SaleCondition_Alloca', 'SaleCondition_Family', 'SaleCondition_Partial', 'SaleType_CWD', 'SaleType_Con', 'SaleType_ConLI', 'SaleType_ConLw', 'SaleType_Oth', 'Street_Grvl', 'Street_Pave', 'TotRmsAbvGrd', 'YearBuilt_1872', 'YearBuilt_1875', 'YearBuilt_1879', 'YearBuilt_1880', 'YearBuilt_1882', 'YearBuilt_1885', 'YearBuilt_1890', 'YearBuilt_1892', 'YearBuilt_1893', 'YearBuilt_1895', 'YearBuilt_1896', 'YearBuilt_1898', 'YearBuilt_1901', 'YearBuilt_1902', 'YearBuilt_1904', 'YearBuilt_1905', 'YearBuilt_1906', 'YearBuilt_1907', 'YearBuilt_1908', 'YearBuilt_1911', 'YearBuilt_1912', 'YearBuilt_1913', 'YearBuilt_1914', 'YearBuilt_1915', 'YearBuilt_1916', 'YearBuilt_1917', 'YearBuilt_1918', 'YearBuilt_1919', 'YearBuilt_1921', 'YearBuilt_1922', 'YearBuilt_1923', 'YearBuilt_1924', 'YearBuilt_1925', 'YearBuilt_1926', 'YearBuilt_1927', 'YearBuilt_1928', 'YearBuilt_1929', 'YearBuilt_1930', 'YearBuilt_1931', 'YearBuilt_1932', 'YearBuilt_1934', 'YearBuilt_1935', 'YearBuilt_1936', 'YearBuilt_1937', 'YearBuilt_1938', 'YearBuilt_1939', 'YearBuilt_1940', 'YearBuilt_1942', 'YearBuilt_1945', 'YearBuilt_1946', 'YearBuilt_1947', 'YearBuilt_1948', 'YearBuilt_1949', 'YearBuilt_1950', 'YearBuilt_1951', 'YearBuilt_1952', 'YearBuilt_1953', 'YearBuilt_1954', 'YearBuilt_1955', 'YearBuilt_1956', 'YearBuilt_1957', 'YearBuilt_1958', 'YearBuilt_1959', 'YearBuilt_1961', 'YearBuilt_1962', 'YearBuilt_1963', 'YearBuilt_1964', 'YearBuilt_1965', 'YearBuilt_1966', 'YearBuilt_1967', 'YearBuilt_1968', 'YearBuilt_1969', 'YearBuilt_1970', 'YearBuilt_1971', 'YearBuilt_1972', 'YearBuilt_1974', 'YearBuilt_1975', 'YearBuilt_1977', 'YearBuilt_1978', 'YearBuilt_1979', 'YearBuilt_1980', 'YearBuilt_1981', 'YearBuilt_1982', 'YearBuilt_1983', 'YearBuilt_1984', 'YearBuilt_1985', 'YearBuilt_1986', 'YearBuilt_1987', 'YearBuilt_1988', 'YearBuilt_1989', 'YearBuilt_1990', 'YearBuilt_1991', 'YearBuilt_1992', 'YearBuilt_1993', 'YearBuilt_1994', 'YearBuilt_1995', 'YearBuilt_1996', 'YearBuilt_1997', 'YearBuilt_1998', 'YearBuilt_1999', 'YearBuilt_2000', 'YearBuilt_2001', 'YearBuilt_2002', 'YearBuilt_2003', 'YearBuilt_2004', 'YearBuilt_2005', 'YearBuilt_2006', 'YearBuilt_2007', 'YearBuilt_2009', 'YearBuilt_2010', 'YearRemodAdd_1951', 'YearRemodAdd_1952', 'YearRemodAdd_1953', 'YearRemodAdd_1954', 'YearRemodAdd_1955', 'YearRemodAdd_1956', 'YearRemodAdd_1957', 'YearRemodAdd_1959', 'YearRemodAdd_1960', 'YearRemodAdd_1961', 'YearRemodAdd_1963', 'YearRemodAdd_1964', 'YearRemodAdd_1965', 'YearRemodAdd_1967', 'YearRemodAdd_1968', 'YearRemodAdd_1969', 'YearRemodAdd_1970', 'YearRemodAdd_1971', 'YearRemodAdd_1972', 'YearRemodAdd_1973', 'YearRemodAdd_1974', 'YearRemodAdd_1975', 'YearRemodAdd_1976', 'YearRemodAdd_1977', 'YearRemodAdd_1978', 'YearRemodAdd_1979', 'YearRemodAdd_1980', 'YearRemodAdd_1981', 'YearRemodAdd_1982', 'YearRemodAdd_1983', 'YearRemodAdd_1984', 'YearRemodAdd_1985', 'YearRemodAdd_1986', 'YearRemodAdd_1987', 'YearRemodAdd_1988', 'YearRemodAdd_1989', 'YearRemodAdd_1990', 'YearRemodAdd_1991', 'YearRemodAdd_1992', 'YearRemodAdd_1993', 'YearRemodAdd_1994', 'YearRemodAdd_1996', 'YearRemodAdd_1998', 'YearRemodAdd_1999', 'YearRemodAdd_2001', 'YearRemodAdd_2002', 'YearRemodAdd_2004', 'YearRemodAdd_2005', 'YearRemodAdd_2006', 'YearRemodAdd_2008', 'YearRemodAdd_2009', 'YearRemodAdd_2010', 'YrSold_2007', 'YrSold_2008']\n"
     ]
    },
    {
     "data": {
      "image/png": "[encoded data removed]",
      "text/plain": [
       "<Figure size 576x1440 with 1 Axes>"
      ]
     },
     "metadata": {},
     "output_type": "display_data"
    }
   ],
   "source": [
    "lasso_coefs = pd.Series(Lasso_best.coef_, index=X_train.columns)\n",
    "\n",
    "plt.figure(figsize=(8, 20))\n",
    "lasso_coefs[lasso_coefs.abs()>0.02].sort_values().plot.barh()\n",
    "plt.title('Coefficients with magnitude greater than 0.02')\n",
    "\n",
    "print('---------------------------------------')\n",
    "print(sum(lasso_coefs==0),'zero coefficients')\n",
    "print(sum(lasso_coefs!=0),'non-zero coefficients')\n",
    "print('---------------------------------------')\n",
    "print('Intercept: ', Lasso_best.intercept_)\n",
    "print('---------------------------------------')\n",
    "print('Top 20 contributers to increased price:')\n",
    "print('---------------------------------------')\n",
    "print(lasso_coefs.sort_values(ascending=False).head(20))\n",
    "print('---------------------------------------')\n",
    "print('Top 10 contributers to decreased price:')\n",
    "print('---------------------------------------')\n",
    "print(lasso_coefs.sort_values(ascending=True).head(10))\n",
    "print('---------------------------------------')\n",
    "print('Zero coefficients:')\n",
    "print('---------------------------------------')\n",
    "print(lasso_coefs[lasso_coefs==0].index.sort_values().tolist())"
   ]
  },
  {
   "cell_type": "markdown",
   "metadata": {},
   "source": [
    "## Train model with only useful features"
   ]
  },
  {
   "cell_type": "code",
   "execution_count": 137,
   "metadata": {},
   "outputs": [],
   "source": [
    "from sklearn.preprocessing import PolynomialFeatures"
   ]
  },
  {
   "cell_type": "code",
   "execution_count": 139,
   "metadata": {},
   "outputs": [
    {
     "name": "stderr",
     "output_type": "stream",
     "text": [
      "C:\\Users\\wlyip\\Anaconda3\\lib\\site-packages\\sklearn\\model_selection\\_split.py:2053: FutureWarning: You should specify a value for 'cv' instead of relying on the default value. The default value will change from 3 to 5 in version 0.22.\n",
      "  warnings.warn(CV_WARNING, FutureWarning)\n",
      "[Parallel(n_jobs=1)]: Using backend SequentialBackend with 1 concurrent workers.\n"
     ]
    },
    {
     "name": "stdout",
     "output_type": "stream",
     "text": [
      "Fitting 3 folds for each of 9 candidates, totalling 27 fits\n"
     ]
    },
    {
     "name": "stderr",
     "output_type": "stream",
     "text": [
      "[Parallel(n_jobs=1)]: Done  27 out of  27 | elapsed:  2.0min finished\n"
     ]
    },
    {
     "name": "stdout",
     "output_type": "stream",
     "text": [
      "------------------------\n",
      "207 zero coefficients\n",
      "70 non-zero coefficients\n",
      "39 non-zero interaction terms.\n",
      "------------------------\n",
      "Features with largest coefficients:\n",
      "------------------------\n",
      "71          LotShape, BsmtFinSF1,\n",
      "76            LotShape, FullBath,\n",
      "4                    OverallQual,\n",
      "5                    OverallCond,\n",
      "272      GarageCond, OpenPorchSF,\n",
      "111       OverallCond, GrLivArea,\n",
      "142        BsmtQual, TotalBsmtSF,\n",
      "109     OverallCond, TotalBsmtSF,\n",
      "25         LotFrontage, LotShape,\n",
      "47          LotArea, OverallQual,\n",
      "15                   FireplaceQu,\n",
      "186         HeatingQC, GrLivArea,\n",
      "213    BsmtFullBath, FireplaceQu,\n",
      "201       GrLivArea, KitchenQual,\n",
      "234      KitchenQual, GarageCars,\n",
      "137        ExterQual, GarageCond,\n",
      "238      KitchenQual, WoodDeckSF,\n",
      "146           BsmtQual, FullBath,\n",
      "122     OverallCond, OpenPorchSF,\n",
      "141         BsmtQual, BsmtFinSF1,\n",
      "10                     HeatingQC,\n",
      "145       BsmtQual, BsmtFullBath,\n",
      "242      FireplaceQu, GarageCars,\n",
      "143          BsmtQual, HeatingQC,\n",
      "112    OverallCond, BsmtFullBath,\n",
      "27      LotFrontage, OverallCond,\n",
      "70            LotShape, BsmtQual,\n",
      "83          LotShape, GarageCond,\n",
      "105     OverallQual, ScreenPorch,\n",
      "104     OverallQual, OpenPorchSF,\n",
      "dtype: object\n",
      "------------------------\n"
     ]
    }
   ],
   "source": [
    "select_cols = [col for col in X_train.columns if X_train[col].nunique()>2 and lasso_coefs[col]!=0]\n",
    "X_train = X_train[select_cols]\n",
    "\n",
    "# add interaction terms\n",
    "poly = PolynomialFeatures(interaction_only=True)\n",
    "X_poly = poly.fit_transform(X_train, y_train)\n",
    "X_poly = pd.DataFrame(X_poly, index=y_train.index)\n",
    "\n",
    "# save info on which features contribute to each term in X_poly\n",
    "powers = pd.DataFrame(poly.powers_, columns=X_train.columns)\n",
    "\n",
    "s = np.where(powers>0, pd.Series(X_train.columns)+', ', '')\n",
    "poly_terms = pd.Series([''.join(x).strip() for x in s])\n",
    "\n",
    "# fit a new model with the interaction terms\n",
    "alph_range = np.arange(5e-5,2e-4,2e-5)\n",
    "param_grid = {'alpha': np.arange(1e-4,1e-3,1e-4),\n",
    "              'max_iter':[100000]}\n",
    "\n",
    "model = Lasso()\n",
    "gsLasso = GridSearchCV(model, param_grid = param_grid, \n",
    "                     scoring = 'neg_mean_squared_error', verbose = 1)\n",
    "\n",
    "gsLasso.fit(X_poly, y_train)\n",
    "\n",
    "Lasso_refit = gsLasso.best_estimator_\n",
    "\n",
    "# gsLasso.best_score_\n",
    "\n",
    "poly_coefs = pd.Series(Lasso_refit.coef_)\n",
    "\n",
    "print('------------------------')\n",
    "print(sum(poly_coefs==0),'zero coefficients')\n",
    "print(sum(poly_coefs!=0),'non-zero coefficients')\n",
    "print(len(poly_coefs[(powers.sum(axis=1)==2) & (poly_coefs>0)]),'non-zero interaction terms.')\n",
    "print('------------------------')\n",
    "print('Features with largest coefficients:')\n",
    "print('------------------------')\n",
    "print(poly_terms[poly_coefs.abs().sort_values(ascending=False).index[:30]])\n",
    "print('------------------------')"
   ]
  },
  {
   "cell_type": "code",
   "execution_count": 76,
   "metadata": {},
   "outputs": [],
   "source": [
    "from sklearn.model_selection import learning_curve"
   ]
  },
  {
   "cell_type": "code",
   "execution_count": 91,
   "metadata": {},
   "outputs": [],
   "source": [
    "def plot_learning_curve(estimator, title, X, y, ylim=None, cv=None,\n",
    "                       train_sizes=np.linspace(.1, 1.0, 5)):\n",
    "    \"\"\"Generate a simple plot of the test and training learning curve\"\"\"\n",
    "    plt.figure()\n",
    "    plt.title(title)\n",
    "    if ylim is not None:\n",
    "        plt.ylim(*ylim)\n",
    "    plt.xlabel(\"Training examples\")\n",
    "    plt.ylabel(\"Score\")\n",
    "    train_sizes, train_scores, test_scores = learning_curve(\n",
    "        estimator, X, y, cv = cv, train_sizes = train_sizes,\n",
    "        scoring='neg_mean_squared_error')\n",
    "    \n",
    "    train_scores = np.sqrt(-train_scores)\n",
    "    test_scores = np.sqrt(-test_scores)\n",
    "    \n",
    "    train_scores_mean = np.mean(train_scores, axis=1)\n",
    "    train_scores_std = np.std(train_scores, axis=1)\n",
    "    test_scores_mean = np.mean(test_scores, axis=1)\n",
    "    test_scores_std = np.std(test_scores, axis=1)\n",
    "    plt.grid()\n",
    "\n",
    "    plt.fill_between(train_sizes, train_scores_mean - train_scores_std,\n",
    "                     train_scores_mean + train_scores_std, alpha = 0.1,\n",
    "                     color = \"r\")\n",
    "    plt.fill_between(train_sizes, test_scores_mean - test_scores_std,\n",
    "                     test_scores_mean + test_scores_std, alpha = 0.1, color = \"g\")\n",
    "    plt.plot(train_sizes, train_scores_mean, 'o-', color = \"r\",\n",
    "             label = \"Training score\")\n",
    "    plt.plot(train_sizes, test_scores_mean, 'o-', color = \"g\",\n",
    "             label = \"Cross-validation score\")\n",
    "\n",
    "    plt.legend(loc = \"best\")\n",
    "    return plt"
   ]
  },
  {
   "cell_type": "code",
   "execution_count": 92,
   "metadata": {},
   "outputs": [
    {
     "name": "stderr",
     "output_type": "stream",
     "text": [
      "C:\\Users\\wlyip\\Anaconda3\\lib\\site-packages\\sklearn\\linear_model\\sag.py:334: ConvergenceWarning: The max_iter was reached which means the coef_ did not converge\n",
      "  \"the coef_ did not converge\", ConvergenceWarning)\n",
      "C:\\Users\\wlyip\\Anaconda3\\lib\\site-packages\\sklearn\\linear_model\\sag.py:334: ConvergenceWarning: The max_iter was reached which means the coef_ did not converge\n",
      "  \"the coef_ did not converge\", ConvergenceWarning)\n",
      "C:\\Users\\wlyip\\Anaconda3\\lib\\site-packages\\sklearn\\linear_model\\sag.py:334: ConvergenceWarning: The max_iter was reached which means the coef_ did not converge\n",
      "  \"the coef_ did not converge\", ConvergenceWarning)\n",
      "C:\\Users\\wlyip\\Anaconda3\\lib\\site-packages\\sklearn\\linear_model\\sag.py:334: ConvergenceWarning: The max_iter was reached which means the coef_ did not converge\n",
      "  \"the coef_ did not converge\", ConvergenceWarning)\n",
      "C:\\Users\\wlyip\\Anaconda3\\lib\\site-packages\\sklearn\\linear_model\\sag.py:334: ConvergenceWarning: The max_iter was reached which means the coef_ did not converge\n",
      "  \"the coef_ did not converge\", ConvergenceWarning)\n",
      "C:\\Users\\wlyip\\Anaconda3\\lib\\site-packages\\sklearn\\linear_model\\sag.py:334: ConvergenceWarning: The max_iter was reached which means the coef_ did not converge\n",
      "  \"the coef_ did not converge\", ConvergenceWarning)\n",
      "C:\\Users\\wlyip\\Anaconda3\\lib\\site-packages\\sklearn\\linear_model\\sag.py:334: ConvergenceWarning: The max_iter was reached which means the coef_ did not converge\n",
      "  \"the coef_ did not converge\", ConvergenceWarning)\n",
      "C:\\Users\\wlyip\\Anaconda3\\lib\\site-packages\\sklearn\\linear_model\\sag.py:334: ConvergenceWarning: The max_iter was reached which means the coef_ did not converge\n",
      "  \"the coef_ did not converge\", ConvergenceWarning)\n",
      "C:\\Users\\wlyip\\Anaconda3\\lib\\site-packages\\sklearn\\linear_model\\sag.py:334: ConvergenceWarning: The max_iter was reached which means the coef_ did not converge\n",
      "  \"the coef_ did not converge\", ConvergenceWarning)\n",
      "C:\\Users\\wlyip\\Anaconda3\\lib\\site-packages\\sklearn\\linear_model\\sag.py:334: ConvergenceWarning: The max_iter was reached which means the coef_ did not converge\n",
      "  \"the coef_ did not converge\", ConvergenceWarning)\n",
      "C:\\Users\\wlyip\\Anaconda3\\lib\\site-packages\\sklearn\\linear_model\\sag.py:334: ConvergenceWarning: The max_iter was reached which means the coef_ did not converge\n",
      "  \"the coef_ did not converge\", ConvergenceWarning)\n",
      "C:\\Users\\wlyip\\Anaconda3\\lib\\site-packages\\sklearn\\linear_model\\sag.py:334: ConvergenceWarning: The max_iter was reached which means the coef_ did not converge\n",
      "  \"the coef_ did not converge\", ConvergenceWarning)\n",
      "C:\\Users\\wlyip\\Anaconda3\\lib\\site-packages\\sklearn\\linear_model\\sag.py:334: ConvergenceWarning: The max_iter was reached which means the coef_ did not converge\n",
      "  \"the coef_ did not converge\", ConvergenceWarning)\n",
      "C:\\Users\\wlyip\\Anaconda3\\lib\\site-packages\\sklearn\\linear_model\\sag.py:334: ConvergenceWarning: The max_iter was reached which means the coef_ did not converge\n",
      "  \"the coef_ did not converge\", ConvergenceWarning)\n",
      "C:\\Users\\wlyip\\Anaconda3\\lib\\site-packages\\sklearn\\linear_model\\sag.py:334: ConvergenceWarning: The max_iter was reached which means the coef_ did not converge\n",
      "  \"the coef_ did not converge\", ConvergenceWarning)\n",
      "C:\\Users\\wlyip\\Anaconda3\\lib\\site-packages\\sklearn\\linear_model\\sag.py:334: ConvergenceWarning: The max_iter was reached which means the coef_ did not converge\n",
      "  \"the coef_ did not converge\", ConvergenceWarning)\n",
      "C:\\Users\\wlyip\\Anaconda3\\lib\\site-packages\\sklearn\\linear_model\\sag.py:334: ConvergenceWarning: The max_iter was reached which means the coef_ did not converge\n",
      "  \"the coef_ did not converge\", ConvergenceWarning)\n",
      "C:\\Users\\wlyip\\Anaconda3\\lib\\site-packages\\sklearn\\linear_model\\sag.py:334: ConvergenceWarning: The max_iter was reached which means the coef_ did not converge\n",
      "  \"the coef_ did not converge\", ConvergenceWarning)\n",
      "C:\\Users\\wlyip\\Anaconda3\\lib\\site-packages\\sklearn\\linear_model\\sag.py:334: ConvergenceWarning: The max_iter was reached which means the coef_ did not converge\n",
      "  \"the coef_ did not converge\", ConvergenceWarning)\n",
      "C:\\Users\\wlyip\\Anaconda3\\lib\\site-packages\\sklearn\\linear_model\\sag.py:334: ConvergenceWarning: The max_iter was reached which means the coef_ did not converge\n",
      "  \"the coef_ did not converge\", ConvergenceWarning)\n",
      "C:\\Users\\wlyip\\Anaconda3\\lib\\site-packages\\sklearn\\linear_model\\sag.py:334: ConvergenceWarning: The max_iter was reached which means the coef_ did not converge\n",
      "  \"the coef_ did not converge\", ConvergenceWarning)\n",
      "C:\\Users\\wlyip\\Anaconda3\\lib\\site-packages\\sklearn\\linear_model\\sag.py:334: ConvergenceWarning: The max_iter was reached which means the coef_ did not converge\n",
      "  \"the coef_ did not converge\", ConvergenceWarning)\n",
      "C:\\Users\\wlyip\\Anaconda3\\lib\\site-packages\\sklearn\\linear_model\\sag.py:334: ConvergenceWarning: The max_iter was reached which means the coef_ did not converge\n",
      "  \"the coef_ did not converge\", ConvergenceWarning)\n",
      "C:\\Users\\wlyip\\Anaconda3\\lib\\site-packages\\sklearn\\linear_model\\sag.py:334: ConvergenceWarning: The max_iter was reached which means the coef_ did not converge\n",
      "  \"the coef_ did not converge\", ConvergenceWarning)\n"
     ]
    },
    {
     "data": {
      "image/png": "[encoded data removed]",
      "text/plain": [
       "<Figure size 432x288 with 1 Axes>"
      ]
     },
     "metadata": {},
     "output_type": "display_data"
    },
    {
     "data": {
      "image/png": "[encoded data removed]",
      "text/plain": [
       "<Figure size 432x288 with 1 Axes>"
      ]
     },
     "metadata": {},
     "output_type": "display_data"
    },
    {
     "data": {
      "image/png": "[encoded data removed]",
      "text/plain": [
       "<Figure size 432x288 with 1 Axes>"
      ]
     },
     "metadata": {},
     "output_type": "display_data"
    },
    {
     "data": {
      "image/png": "[encoded data removed]",
      "text/plain": [
       "<Figure size 432x288 with 1 Axes>"
      ]
     },
     "metadata": {},
     "output_type": "display_data"
    },
    {
     "data": {
      "image/png": "[encoded data removed]",
      "text/plain": [
       "<Figure size 432x288 with 1 Axes>"
      ]
     },
     "metadata": {},
     "output_type": "display_data"
    },
    {
     "data": {
      "image/png": "[encoded data removed]",
      "text/plain": [
       "<Figure size 432x288 with 1 Axes>"
      ]
     },
     "metadata": {},
     "output_type": "display_data"
    },
    {
     "data": {
      "image/png": "[encoded data removed]",
      "text/plain": [
       "<Figure size 432x288 with 1 Axes>"
      ]
     },
     "metadata": {},
     "output_type": "display_data"
    },
    {
     "data": {
      "image/png": "[encoded data removed]",
      "text/plain": [
       "<Figure size 432x288 with 1 Axes>"
      ]
     },
     "metadata": {},
     "output_type": "display_data"
    }
   ],
   "source": [
    "g = plot_learning_curve(RFR_best,\"RFR mearning curves\", X_train, y_train, cv=5)\n",
    "g = plot_learning_curve(Ridge_best,\"Ridge mearning curves\", X_train, y_train, cv=5)\n",
    "g = plot_learning_curve(Lasso_best,\"Lasso mearning curves\", X_train, y_train, cv=5)\n",
    "g = plot_learning_curve(Elastic_best,\"Elastic mearning curves\", X_train, y_train, cv=5)\n",
    "g = plot_learning_curve(SVR_best,\"SVR curves\", X_train, y_train, cv=5)\n",
    "g = plot_learning_curve(LinearSVR_best,\"Linear SVR mearning curves\", X_train, y_train, cv=5)\n",
    "g = plot_learning_curve(GBR_best,\"GBR curves\", X_train, y_train, cv=5)\n",
    "g = plot_learning_curve(XGB_best,\"XGB curves\", X_train, y_train, cv=5)"
   ]
  },
  {
   "cell_type": "code",
   "execution_count": 83,
   "metadata": {},
   "outputs": [
    {
     "data": {
      "image/png": "[encoded data removed]",
      "text/plain": [
       "<Figure size 432x288 with 2 Axes>"
      ]
     },
     "metadata": {},
     "output_type": "display_data"
    }
   ],
   "source": [
    "val_RFR = pd.Series(RFR_best.predict(X_val), name=\"RFR\")\n",
    "val_Ridge = pd.Series(Ridge_best.predict(X_val), name=\"Ridge\")\n",
    "val_Lasso = pd.Series(Lasso_best.predict(X_val), name=\"Lasso\")\n",
    "val_Elastic = pd.Series(Elastic_best.predict(X_val), name=\"Elastic\")\n",
    "val_SVR = pd.Series(SVR_best.predict(X_val), name=\"SVR\")\n",
    "val_GBR = pd.Series(GBR_best.predict(X_val), name=\"GBR\")\n",
    "val_SVR = pd.Series(SVR_best.predict(X_val), name=\"SVR\")\n",
    "val_XGB = pd.Series(XGB_best.predict(X_val), name=\"XGB\")\n",
    "\n",
    "\n",
    "# Concatenate all classifier results\n",
    "ensemble_results = pd.concat([val_RFR, val_Ridge,\n",
    "                              val_Lasso, val_Elastic, \n",
    "                              val_SVR, val_GBR, val_SVR, val_XGB],\n",
    "                              axis = 1)\n",
    "\n",
    "\n",
    "g = sns.heatmap(ensemble_results.corr(), annot=True)"
   ]
  },
  {
   "cell_type": "markdown",
   "metadata": {},
   "source": [
    "## Ensemble Model"
   ]
  },
  {
   "cell_type": "code",
   "execution_count": 93,
   "metadata": {},
   "outputs": [],
   "source": [
    "# Lasso and ElasticNet perform the best\n",
    "Lasso_pred = Lasso_best.predict(X_test)\n",
    "Lasso_pred = np.expm1(Lasso_pred)\n",
    "\n",
    "Elastic_pred = Elastic_best.predict(X_test)\n",
    "Elastic_pred = np.expm1(Elastic_pred)\n",
    "\n",
    "prediction = 0.5*Lasso_pred + 0.5*Elastic_pred\n",
    "submission = pd.DataFrame()\n",
    "submission['Id'] = test_id\n",
    "submission['SalePrice'] = prediction\n",
    "\n",
    "submission.to_csv('ensemble.csv', index=False)"
   ]
  },
  {
   "cell_type": "markdown",
   "metadata": {},
   "source": [
    "**ensemble all model**"
   ]
  },
  {
   "cell_type": "code",
   "execution_count": 105,
   "metadata": {},
   "outputs": [
    {
     "data": {
      "text/html": [
       "<div>\n",
       "<style scoped>\n",
       "    .dataframe tbody tr th:only-of-type {\n",
       "        vertical-align: middle;\n",
       "    }\n",
       "\n",
       "    .dataframe tbody tr th {\n",
       "        vertical-align: top;\n",
       "    }\n",
       "\n",
       "    .dataframe thead th {\n",
       "        text-align: right;\n",
       "    }\n",
       "</style>\n",
       "<table border=\"1\" class=\"dataframe\">\n",
       "  <thead>\n",
       "    <tr style=\"text-align: right;\">\n",
       "      <th></th>\n",
       "      <th>Ridge</th>\n",
       "      <th>Lasso</th>\n",
       "      <th>Elastic</th>\n",
       "      <th>GBR</th>\n",
       "      <th>XGB</th>\n",
       "    </tr>\n",
       "  </thead>\n",
       "  <tbody>\n",
       "    <tr>\n",
       "      <th>0</th>\n",
       "      <td>12.226846</td>\n",
       "      <td>12.196965</td>\n",
       "      <td>12.205722</td>\n",
       "      <td>12.153507</td>\n",
       "      <td>12.136761</td>\n",
       "    </tr>\n",
       "    <tr>\n",
       "      <th>1</th>\n",
       "      <td>11.783586</td>\n",
       "      <td>11.735802</td>\n",
       "      <td>11.739609</td>\n",
       "      <td>11.776104</td>\n",
       "      <td>11.764278</td>\n",
       "    </tr>\n",
       "    <tr>\n",
       "      <th>2</th>\n",
       "      <td>12.326235</td>\n",
       "      <td>12.302696</td>\n",
       "      <td>12.306299</td>\n",
       "      <td>12.349777</td>\n",
       "      <td>12.345193</td>\n",
       "    </tr>\n",
       "    <tr>\n",
       "      <th>3</th>\n",
       "      <td>11.962810</td>\n",
       "      <td>11.980423</td>\n",
       "      <td>11.989932</td>\n",
       "      <td>11.882434</td>\n",
       "      <td>11.886724</td>\n",
       "    </tr>\n",
       "    <tr>\n",
       "      <th>4</th>\n",
       "      <td>11.440523</td>\n",
       "      <td>11.501384</td>\n",
       "      <td>11.504545</td>\n",
       "      <td>11.364465</td>\n",
       "      <td>11.344524</td>\n",
       "    </tr>\n",
       "  </tbody>\n",
       "</table>\n",
       "</div>"
      ],
      "text/plain": [
       "       Ridge      Lasso    Elastic        GBR        XGB\n",
       "0  12.226846  12.196965  12.205722  12.153507  12.136761\n",
       "1  11.783586  11.735802  11.739609  11.776104  11.764278\n",
       "2  12.326235  12.302696  12.306299  12.349777  12.345193\n",
       "3  11.962810  11.980423  11.989932  11.882434  11.886724\n",
       "4  11.440523  11.501384  11.504545  11.364465  11.344524"
      ]
     },
     "execution_count": 105,
     "metadata": {},
     "output_type": "execute_result"
    }
   ],
   "source": [
    "# train_RFR = pd.Series(RFR_best.predict(X_train), name=\"RFR\")\n",
    "train_Ridge = pd.Series(Ridge_best.predict(X_train), name=\"Ridge\")\n",
    "train_Lasso = pd.Series(Lasso_best.predict(X_train), name=\"Lasso\")\n",
    "train_Elastic = pd.Series(Elastic_best.predict(X_train), name=\"Elastic\")\n",
    "# train_SVR = pd.Series(SVR_best.predict(X_train), name=\"SVR\")\n",
    "train_GBR = pd.Series(GBR_best.predict(X_train), name=\"GBR\")\n",
    "train_XGB = pd.Series(XGB_best.predict(X_train), name=\"XGB\")\n",
    "\n",
    "model_train = pd.DataFrame({'Ridge': train_Ridge, 'Lasso': train_Lasso,\n",
    "                           'Elastic': train_Elastic, \n",
    "                           'GBR': train_GBR, 'XGB': train_XGB})\n",
    "# model_train = pd.DataFrame({'RFR': train_RFR, 'Ridge': train_Ridge, 'Lasso': train_Lasso,\n",
    "#                            'Elastic': train_Elastic, 'SVR': train_SVR,\n",
    "#                            'GBR': train_GBR, 'SVR': train_SVR, 'XGB': train_XGB})\n",
    "\n",
    "model_train.head(5)"
   ]
  },
  {
   "cell_type": "code",
   "execution_count": 106,
   "metadata": {},
   "outputs": [
    {
     "data": {
      "text/html": [
       "<div>\n",
       "<style scoped>\n",
       "    .dataframe tbody tr th:only-of-type {\n",
       "        vertical-align: middle;\n",
       "    }\n",
       "\n",
       "    .dataframe tbody tr th {\n",
       "        vertical-align: top;\n",
       "    }\n",
       "\n",
       "    .dataframe thead th {\n",
       "        text-align: right;\n",
       "    }\n",
       "</style>\n",
       "<table border=\"1\" class=\"dataframe\">\n",
       "  <thead>\n",
       "    <tr style=\"text-align: right;\">\n",
       "      <th></th>\n",
       "      <th>Ridge</th>\n",
       "      <th>Lasso</th>\n",
       "      <th>Elastic</th>\n",
       "      <th>GBR</th>\n",
       "      <th>XGB</th>\n",
       "    </tr>\n",
       "  </thead>\n",
       "  <tbody>\n",
       "    <tr>\n",
       "      <th>0</th>\n",
       "      <td>11.789417</td>\n",
       "      <td>11.852826</td>\n",
       "      <td>11.850235</td>\n",
       "      <td>11.826740</td>\n",
       "      <td>11.794394</td>\n",
       "    </tr>\n",
       "    <tr>\n",
       "      <th>1</th>\n",
       "      <td>11.725277</td>\n",
       "      <td>11.772895</td>\n",
       "      <td>11.769952</td>\n",
       "      <td>11.736097</td>\n",
       "      <td>11.765250</td>\n",
       "    </tr>\n",
       "    <tr>\n",
       "      <th>2</th>\n",
       "      <td>11.520451</td>\n",
       "      <td>11.499648</td>\n",
       "      <td>11.501782</td>\n",
       "      <td>11.481822</td>\n",
       "      <td>11.459526</td>\n",
       "    </tr>\n",
       "    <tr>\n",
       "      <th>3</th>\n",
       "      <td>12.208330</td>\n",
       "      <td>12.192422</td>\n",
       "      <td>12.199270</td>\n",
       "      <td>12.151554</td>\n",
       "      <td>12.162286</td>\n",
       "    </tr>\n",
       "    <tr>\n",
       "      <th>4</th>\n",
       "      <td>12.066033</td>\n",
       "      <td>12.103301</td>\n",
       "      <td>12.102103</td>\n",
       "      <td>12.137407</td>\n",
       "      <td>12.188095</td>\n",
       "    </tr>\n",
       "  </tbody>\n",
       "</table>\n",
       "</div>"
      ],
      "text/plain": [
       "       Ridge      Lasso    Elastic        GBR        XGB\n",
       "0  11.789417  11.852826  11.850235  11.826740  11.794394\n",
       "1  11.725277  11.772895  11.769952  11.736097  11.765250\n",
       "2  11.520451  11.499648  11.501782  11.481822  11.459526\n",
       "3  12.208330  12.192422  12.199270  12.151554  12.162286\n",
       "4  12.066033  12.103301  12.102103  12.137407  12.188095"
      ]
     },
     "execution_count": 106,
     "metadata": {},
     "output_type": "execute_result"
    }
   ],
   "source": [
    "# val_RFR = pd.Series(RFR_best.predict(X_val), name=\"RFR\")\n",
    "val_Ridge = pd.Series(Ridge_best.predict(X_val), name=\"Ridge\")\n",
    "val_Lasso = pd.Series(Lasso_best.predict(X_val), name=\"Lasso\")\n",
    "val_Elastic = pd.Series(Elastic_best.predict(X_val), name=\"Elastic\")\n",
    "# val_SVR = pd.Series(SVR_best.predict(X_val), name=\"SVR\")\n",
    "val_GBR = pd.Series(GBR_best.predict(X_val), name=\"GBR\")\n",
    "val_XGB = pd.Series(XGB_best.predict(X_val), name=\"XGB\")\n",
    "\n",
    "model_val = pd.DataFrame({'Ridge': val_Ridge, 'Lasso': val_Lasso,\n",
    "                           'Elastic': val_Elastic,\n",
    "                           'GBR': val_GBR, 'XGB': val_XGB})\n",
    "# model_val = pd.DataFrame({'RFR': val_RFR, 'Ridge': val_Ridge, 'Lasso': val_Lasso,\n",
    "#                            'Elastic': val_Elastic, 'SVR': val_SVR,\n",
    "#                            'GBR': val_GBR, 'SVR': val_SVR, 'XGB': val_XGB})\n",
    "\n",
    "model_val.head(5)"
   ]
  },
  {
   "cell_type": "code",
   "execution_count": 98,
   "metadata": {},
   "outputs": [],
   "source": [
    "from sklearn.linear_model import LinearRegression"
   ]
  },
  {
   "cell_type": "code",
   "execution_count": 107,
   "metadata": {},
   "outputs": [
    {
     "data": {
      "text/plain": [
       "LinearRegression(copy_X=True, fit_intercept=True, n_jobs=None,\n",
       "         normalize=False)"
      ]
     },
     "execution_count": 107,
     "metadata": {},
     "output_type": "execute_result"
    }
   ],
   "source": [
    "meta_model = LinearRegression()\n",
    "meta_model.fit(model_train, y_train)"
   ]
  },
  {
   "cell_type": "code",
   "execution_count": 108,
   "metadata": {},
   "outputs": [
    {
     "name": "stdout",
     "output_type": "stream",
     "text": [
      "Validation MAE: 0.0932823356233039\n"
     ]
    }
   ],
   "source": [
    "prediction = XGB_best.predict(X_val)\n",
    "MAE = mean_absolute_error(y_val, prediction)\n",
    "print('Validation MAE:', MAE)"
   ]
  },
  {
   "cell_type": "code",
   "execution_count": 109,
   "metadata": {},
   "outputs": [],
   "source": [
    "# test_RFR = pd.Series(RFR_best.predict(X_test), name=\"RFR\")\n",
    "test_Ridge = pd.Series(Ridge_best.predict(X_test), name=\"Ridge\")\n",
    "test_Lasso = pd.Series(Lasso_best.predict(X_test), name=\"Lasso\")\n",
    "test_Elastic = pd.Series(Elastic_best.predict(X_test), name=\"Elastic\")\n",
    "# test_SVR = pd.Series(SVR_best.predict(X_test), name=\"SVR\")\n",
    "test_GBR = pd.Series(GBR_best.predict(X_test), name=\"GBR\")\n",
    "test_XGB = pd.Series(XGB_best.predict(X_test), name=\"XGB\")\n",
    "\n",
    "model_test = pd.DataFrame({'Ridge': test_Ridge, 'Lasso': test_Lasso,\n",
    "                           'Elastic': test_Elastic,\n",
    "                           'GBR': test_GBR, 'XGB': test_XGB})\n",
    "# model_test = pd.DataFrame({'RFR': test_RFR, 'Ridge': test_Ridge, 'Lasso': test_Lasso,\n",
    "#                            'Elastic': test_Elastic, 'SVR': test_SVR,\n",
    "#                            'GBR': test_GBR, 'SVR': test_SVR, 'XGB': test_XGB})\n",
    "\n",
    "\n",
    "\n",
    "\n",
    "prediction = meta_model.predict(model_test)\n",
    "prediction = np.expm1(prediction)\n",
    "submission = pd.DataFrame()\n",
    "submission['Id'] = test_id\n",
    "submission['SalePrice'] = prediction\n",
    "\n",
    "submission.to_csv('meta_model.csv', index=False)"
   ]
  },
  {
   "cell_type": "code",
   "execution_count": null,
   "metadata": {},
   "outputs": [],
   "source": []
  }
 ],
 "metadata": {
  "kernelspec": {
   "display_name": "Python 3",
   "language": "python",
   "name": "python3"
  },
  "language_info": {
   "codemirror_mode": {
    "name": "ipython",
    "version": 3
   },
   "file_extension": ".py",
   "mimetype": "text/x-python",
   "name": "python",
   "nbconvert_exporter": "python",
   "pygments_lexer": "ipython3",
   "version": "3.6.5"
  }
 },
 "nbformat": 4,
 "nbformat_minor": 2
}
